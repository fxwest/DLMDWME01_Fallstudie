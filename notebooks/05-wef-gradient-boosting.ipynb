{
 "cells": [
  {
   "cell_type": "markdown",
   "source": [
    "# GRADIENT BOOSTING MODEL NOTEBOOK\n",
    "Felix A. Westphal\n",
    "DLMDWME01\n",
    "\n",
    "### Import"
   ],
   "metadata": {
    "collapsed": false
   }
  },
  {
   "cell_type": "code",
   "execution_count": 5,
   "outputs": [],
   "source": [
    "import pickle\n",
    "import pandas as pd\n",
    "from sklearn.model_selection import train_test_split\n",
    "from sklearn.ensemble import GradientBoostingClassifier\n",
    "from sklearn.metrics import accuracy_score\n",
    "from sklearn.model_selection import GridSearchCV"
   ],
   "metadata": {
    "collapsed": false,
    "ExecuteTime": {
     "start_time": "2023-05-22T21:39:57.856744Z",
     "end_time": "2023-05-22T21:39:58.082225Z"
    }
   }
  },
  {
   "cell_type": "markdown",
   "source": [
    "### Parameter"
   ],
   "metadata": {
    "collapsed": false
   }
  },
  {
   "cell_type": "code",
   "execution_count": 6,
   "outputs": [],
   "source": [
    "FILE_PATH_BALANCED_DATA = r\"../data/processed/Balanced_Input_Data.csv\"\n",
    "FILE_PATH_NORMALIZED_DATA = r\"../data/processed/Normalized_Input_Data.csv\"\n",
    "FILE_PATH_DATASET_TRAIN_X = r\"../data/processed/Dataset_Train_X.csv\"\n",
    "FILE_PATH_DATASET_TRAIN_Y = r\"../data/processed/Dataset_Train_Y.csv\"\n",
    "FILE_PATH_DATASET_TEST_X = r\"../data/processed/Dataset_Test_X.csv\"\n",
    "FILE_PATH_DATASET_TEST_Y = r\"../data/processed/Dataset_Test_Y.csv\"\n",
    "FILE_PATH_TRAINED_MODEL = r\"../models/gradient_boosting.pkl\""
   ],
   "metadata": {
    "collapsed": false,
    "ExecuteTime": {
     "start_time": "2023-05-22T21:39:57.894843Z",
     "end_time": "2023-05-22T21:39:58.082225Z"
    }
   }
  },
  {
   "cell_type": "markdown",
   "source": [
    "### Load Data"
   ],
   "metadata": {
    "collapsed": false
   }
  },
  {
   "cell_type": "code",
   "execution_count": 7,
   "outputs": [
    {
     "name": "stdout",
     "output_type": "stream",
     "text": [
      "Data loaded from Excel: \n",
      "                 tmsp    amount  success  3D_secured  Austria  Germany  \\\n",
      "0 2019-01-01 00:01:11  0.133013    False       False    False     True   \n",
      "1 2019-01-01 00:01:17  0.133013     True       False    False     True   \n",
      "2 2019-01-01 00:02:49  0.371795    False        True    False     True   \n",
      "3 2019-01-01 00:03:13  0.371795     True        True    False     True   \n",
      "4 2019-01-01 00:04:33  0.189103    False       False     True    False   \n",
      "\n",
      "   Switzerland  Goldcard  Moneycard  Simplecard  UK_Card  Diners  Master  \\\n",
      "0        False     False      False       False     True   False   False   \n",
      "1        False     False      False       False     True   False   False   \n",
      "2        False     False      False       False     True    True   False   \n",
      "3        False     False      False       False     True    True   False   \n",
      "4        False     False      False        True    False    True   False   \n",
      "\n",
      "    Visa  num_tries  order_id      hour  is_weekend  \n",
      "0   True          1         1  0.133013       False  \n",
      "1   True          2         1  0.133013       False  \n",
      "2  False          1         2  0.371795       False  \n",
      "3  False          1         3  0.371795       False  \n",
      "4  False          1         4  0.189103       False  \n"
     ]
    }
   ],
   "source": [
    "input_data = pd.read_csv(FILE_PATH_NORMALIZED_DATA, parse_dates=[0])                        # Load input data file\n",
    "print(f\"Data loaded from Excel: \\n{input_data.head()}\")"
   ],
   "metadata": {
    "collapsed": false,
    "ExecuteTime": {
     "start_time": "2023-05-22T21:39:57.916027Z",
     "end_time": "2023-05-22T21:39:58.269860Z"
    }
   }
  },
  {
   "cell_type": "markdown",
   "source": [
    "### Train and Test Dataset"
   ],
   "metadata": {
    "collapsed": false
   }
  },
  {
   "cell_type": "code",
   "execution_count": 8,
   "outputs": [
    {
     "name": "stdout",
     "output_type": "stream",
     "text": [
      "Number of failed transactions: 24073\n",
      "Number of succeeded transactions: 6223\n"
     ]
    }
   ],
   "source": [
    "input_data = input_data[input_data['num_tries'] == 1]                                                   # Only consider first tries\n",
    "X = input_data[['hour', 'amount', '3D_secured', 'is_weekend', 'Goldcard', 'Simplecard', 'UK_Card']]     # Selected Features\n",
    "y = input_data['success']                                                                               # Target Variable\n",
    "X_train, X_test, y_train, y_test = train_test_split(X, y, test_size=0.2, random_state=42, shuffle=True)\n",
    "\n",
    "# --- Check Dataset Distribution\n",
    "failed_transaction = y_train[y_train == False]\n",
    "succeeded_transaction = y_train[y_train == True]\n",
    "num_failed = len(failed_transaction.index)\n",
    "num_succeeded = len(succeeded_transaction.index)\n",
    "print(\"Number of failed transactions: \" + str(num_failed))\n",
    "print(\"Number of succeeded transactions: \" + str(num_succeeded))"
   ],
   "metadata": {
    "collapsed": false,
    "ExecuteTime": {
     "start_time": "2023-05-22T21:39:58.283602Z",
     "end_time": "2023-05-22T21:39:58.377053Z"
    }
   }
  },
  {
   "cell_type": "markdown",
   "source": [
    "### Gradient Boosting Model"
   ],
   "metadata": {
    "collapsed": false
   }
  },
  {
   "cell_type": "code",
   "execution_count": 9,
   "outputs": [],
   "source": [
    "param_grid = {\n",
    "    'learning_rate': [0,1, 0.01, 0.001],\n",
    "    'max_depth': [3, 6, 8],\n",
    "    'n_estimators': [100, 1000, 2000]\n",
    "}\n",
    "\n",
    "gradientboosting = GradientBoostingClassifier(learning_rate=0.001, max_depth=3, n_estimators=2000)\n",
    "\n",
    "# --- Perform grid search cross-validation\n",
    "#grid_search = GridSearchCV(estimator=gradientboosting, param_grid=param_grid, cv=3, scoring='accuracy')\n",
    "#grid_search.fit(X_train, y_train)\n",
    "\n",
    "# --- Get the best hyperparameters and the corresponding model\n",
    "#best_params = grid_search.best_params_\n",
    "#best_model = grid_search.best_estimator_\n",
    "\n",
    "#best_model = grid_search.best_estimator_\n",
    "#print(f\"Best Hyperparameters for GradientBoostingClassifier: {best_params}\")\n",
    "\n",
    "#cv_scores = cross_val_score(gradientboosting, X_train, y_train, cv=3, scoring=\"recall\")\n",
    "#print(cv_scores)\n",
    "#print(f\"Average 3-Fold CV recall score: {np.mean(cv_scores)}\")\n",
    "\n",
    "gradientboosting.fit(X_train, y_train)\n",
    "y_pred = gradientboosting.predict(X_test)\n",
    "y_pred_proba = gradientboosting.predict_proba(X_test)[:,1]\n",
    "#y_pred = best_model.predict(X_test)\n",
    "#y_pred_proba = best_model.predict_proba(X_test)[:,1]"
   ],
   "metadata": {
    "collapsed": false,
    "ExecuteTime": {
     "start_time": "2023-05-22T21:39:58.335841Z",
     "end_time": "2023-05-22T21:41:42.574378Z"
    }
   }
  },
  {
   "cell_type": "markdown",
   "source": [
    "### Model Evaluation"
   ],
   "metadata": {
    "collapsed": false
   }
  },
  {
   "cell_type": "code",
   "execution_count": 10,
   "outputs": [
    {
     "name": "stdout",
     "output_type": "stream",
     "text": [
      "Model Accuracy: 0.8047266965936097\n"
     ]
    }
   ],
   "source": [
    "# --- Calculate the accuracy of the Gradient Boosting model\n",
    "accuracy = accuracy_score(y_test, y_pred)\n",
    "print(\"Model Accuracy:\", accuracy)\n",
    "# 81%\n",
    "# 62% (Balancing)\n",
    "# 62% (Balancing and Normalized)\n",
    "# 81% (No Balancing and Normalized)\n",
    "# 78% (n_extimators=2000 (1000), max_depth=6 (3)\n",
    "# 81% (max_depth=2)\n",
    "# 81% (nur noch n_estimators=2000)\n",
    "# 81-% (n_estimators=4000)\n",
    "# 81+% (n_estimators=1000)\n",
    "# 80,5% (Feature Selection, Hyperparameter Tuning)"
   ],
   "metadata": {
    "collapsed": false,
    "ExecuteTime": {
     "start_time": "2023-05-22T21:41:42.578147Z",
     "end_time": "2023-05-22T21:41:42.595715Z"
    }
   }
  },
  {
   "cell_type": "markdown",
   "source": [
    "### Save Model and Dataset"
   ],
   "metadata": {
    "collapsed": false
   }
  },
  {
   "cell_type": "code",
   "execution_count": 11,
   "outputs": [],
   "source": [
    "# --- Save trained model\n",
    "with open(FILE_PATH_TRAINED_MODEL, 'wb') as file:\n",
    "    pickle.dump(gradientboosting, file)\n",
    "\n",
    "# --- Save Datasets\n",
    "X_train.to_csv(FILE_PATH_DATASET_TRAIN_X, index=False)\n",
    "y_train.to_csv(FILE_PATH_DATASET_TRAIN_Y, index=False)\n",
    "X_test.to_csv(FILE_PATH_DATASET_TEST_X, index=False)\n",
    "y_test.to_csv(FILE_PATH_DATASET_TEST_Y, index=False)"
   ],
   "metadata": {
    "collapsed": false,
    "ExecuteTime": {
     "start_time": "2023-05-22T21:41:42.601368Z",
     "end_time": "2023-05-22T21:41:43.053045Z"
    }
   }
  }
 ],
 "metadata": {
  "kernelspec": {
   "display_name": "Python 3",
   "language": "python",
   "name": "python3"
  },
  "language_info": {
   "codemirror_mode": {
    "name": "ipython",
    "version": 2
   },
   "file_extension": ".py",
   "mimetype": "text/x-python",
   "name": "python",
   "nbconvert_exporter": "python",
   "pygments_lexer": "ipython2",
   "version": "2.7.6"
  }
 },
 "nbformat": 4,
 "nbformat_minor": 0
}

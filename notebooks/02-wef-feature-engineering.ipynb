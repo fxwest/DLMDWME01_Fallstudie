{
 "cells": [
  {
   "cell_type": "markdown",
   "source": [
    "# DATA ANALYSIS NOTEBOOK\n",
    "Felix A. Westphal\n",
    "DLMDWME01\n",
    "\n",
    "### Import"
   ],
   "metadata": {
    "collapsed": false
   }
  },
  {
   "cell_type": "code",
   "execution_count": 65,
   "outputs": [],
   "source": [
    "import pandas as pd\n",
    "from datetime import datetime"
   ],
   "metadata": {
    "collapsed": false,
    "ExecuteTime": {
     "start_time": "2023-05-02T22:05:49.953499Z",
     "end_time": "2023-05-02T22:05:49.978647Z"
    }
   }
  },
  {
   "cell_type": "markdown",
   "source": [
    "### Parameter"
   ],
   "metadata": {
    "collapsed": false
   }
  },
  {
   "cell_type": "code",
   "execution_count": 66,
   "outputs": [],
   "source": [
    "FILE_PATH_INPUT_DATA = r\"../data/processed/Cleaned_Input_Data.csv\"\n",
    "FILE_PATH_EXTENDED_DATA = r\"../data/processed/Extended_Input_Data.csv\"\n",
    "TIMESTAMP_FORMAT = \"%Y-%m-%d %H:%M:%S\"\n",
    "TIMESTAMP_FORMAT_MINUTE = \"%Y-%m-%d %H:%M\""
   ],
   "metadata": {
    "collapsed": false,
    "ExecuteTime": {
     "start_time": "2023-05-02T22:05:49.978647Z",
     "end_time": "2023-05-02T22:05:49.994283Z"
    }
   }
  },
  {
   "cell_type": "markdown",
   "source": [
    "### Load Data"
   ],
   "metadata": {
    "collapsed": false
   }
  },
  {
   "cell_type": "code",
   "execution_count": 67,
   "outputs": [
    {
     "name": "stdout",
     "output_type": "stream",
     "text": [
      "                     tmsp      country  amount  success         PSP  \\\n",
      "0     2019-01-01 00:01:11      Germany    89.0    False     UK_Card   \n",
      "1     2019-01-01 00:01:17      Germany    89.0     True     UK_Card   \n",
      "2     2019-01-01 00:02:49      Germany   238.0    False     UK_Card   \n",
      "3     2019-01-01 00:03:13      Germany   238.0     True     UK_Card   \n",
      "4     2019-01-01 00:04:33      Austria   124.0    False  Simplecard   \n",
      "...                   ...          ...     ...      ...         ...   \n",
      "50405 2019-02-28 23:45:39  Switzerland   415.0    False     UK_Card   \n",
      "50406 2019-02-28 23:46:48      Austria    91.0    False     UK_Card   \n",
      "50407 2019-02-28 23:47:04      Austria    91.0    False     UK_Card   \n",
      "50408 2019-02-28 23:47:36      Austria    91.0    False     UK_Card   \n",
      "50409 2019-02-28 23:48:19      Austria    91.0     True   Moneycard   \n",
      "\n",
      "       3D_secured    card  \n",
      "0           False    Visa  \n",
      "1           False    Visa  \n",
      "2            True  Diners  \n",
      "3            True  Diners  \n",
      "4           False  Diners  \n",
      "...           ...     ...  \n",
      "50405       False    Visa  \n",
      "50406       False  Master  \n",
      "50407       False  Master  \n",
      "50408       False  Master  \n",
      "50409       False  Master  \n",
      "\n",
      "[50410 rows x 7 columns]\n"
     ]
    }
   ],
   "source": [
    "input_data = pd.read_csv(FILE_PATH_INPUT_DATA, parse_dates=[0])                        # Load input data file\n",
    "print(input_data)"
   ],
   "metadata": {
    "collapsed": false,
    "ExecuteTime": {
     "start_time": "2023-05-02T22:05:49.994283Z",
     "end_time": "2023-05-02T22:05:50.093227Z"
    }
   }
  },
  {
   "cell_type": "markdown",
   "source": [
    "### Number of Tries"
   ],
   "metadata": {
    "collapsed": false
   }
  },
  {
   "cell_type": "code",
   "execution_count": 68,
   "outputs": [
    {
     "name": "stdout",
     "output_type": "stream",
     "text": [
      "========== CALCULATING NUMBER OF TRIES ==========\n",
      "\n",
      "========== EXTENDED DATA FRAME ========== \n",
      "                     tmsp      country  amount  success         PSP  \\\n",
      "0     2019-01-01 00:01:11      Germany    89.0    False     UK_Card   \n",
      "1     2019-01-01 00:01:17      Germany    89.0     True     UK_Card   \n",
      "2     2019-01-01 00:02:49      Germany   238.0    False     UK_Card   \n",
      "3     2019-01-01 00:03:13      Germany   238.0     True     UK_Card   \n",
      "4     2019-01-01 00:04:33      Austria   124.0    False  Simplecard   \n",
      "...                   ...          ...     ...      ...         ...   \n",
      "50405 2019-02-28 23:45:39  Switzerland   415.0    False     UK_Card   \n",
      "50406 2019-02-28 23:46:48      Austria    91.0    False     UK_Card   \n",
      "50407 2019-02-28 23:47:04      Austria    91.0    False     UK_Card   \n",
      "50408 2019-02-28 23:47:36      Austria    91.0    False     UK_Card   \n",
      "50409 2019-02-28 23:48:19      Austria    91.0     True   Moneycard   \n",
      "\n",
      "       3D_secured    card  num_tries order_id  \n",
      "0           False    Visa          1        1  \n",
      "1           False    Visa          2        1  \n",
      "2            True  Diners          1        2  \n",
      "3            True  Diners          1        3  \n",
      "4           False  Diners          1        4  \n",
      "...           ...     ...        ...      ...  \n",
      "50405       False    Visa          2    37822  \n",
      "50406       False  Master          1    37823  \n",
      "50407       False  Master          1    37824  \n",
      "50408       False  Master          2    37824  \n",
      "50409       False  Master          1    37825  \n",
      "\n",
      "[50410 rows x 9 columns]\n",
      "Saved Extended Data Frame as .csv to: ../data/processed/Extended_Input_Data.csv\n"
     ]
    }
   ],
   "source": [
    "print(\"========== CALCULATING NUMBER OF TRIES ==========\")\n",
    "extended_data = input_data.sort_values(by=\"tmsp\")                                               # Sort the dataframe by timestamp\n",
    "extended_data[\"num_tries\"] = 0                                                                  # Add new column\n",
    "extended_data[\"order_id\"] = None\n",
    "\n",
    "order_id = 0\n",
    "for i in range(len(extended_data)):\n",
    "    if i > 0 \\\n",
    "    and extended_data.iloc[i][\"tmsp\"].strftime(TIMESTAMP_FORMAT_MINUTE) == extended_data.iloc[i-1][\"tmsp\"].strftime(TIMESTAMP_FORMAT_MINUTE) \\\n",
    "    and extended_data.iloc[i][\"country\"] == extended_data.iloc[i-1][\"country\"] \\\n",
    "    and extended_data.iloc[i][\"amount\"] == extended_data.iloc[i-1][\"amount\"]:\n",
    "        extended_data.at[i, \"num_tries\"] = extended_data.iloc[i-1][\"num_tries\"] + 1\n",
    "        extended_data.at[i, 'order_id'] = order_id\n",
    "    else:\n",
    "        extended_data.at[i, 'num_tries'] = 1\n",
    "        order_id = order_id + 1\n",
    "        extended_data.at[i, 'order_id'] = order_id\n",
    "\n",
    "\n",
    "print(f\"\\n========== EXTENDED DATA FRAME ========== \\n{extended_data}\")\n",
    "extended_data.to_csv(FILE_PATH_EXTENDED_DATA, index=False)\n",
    "print(f\"Saved Extended Data Frame as .csv to: {FILE_PATH_EXTENDED_DATA}\")"
   ],
   "metadata": {
    "collapsed": false,
    "ExecuteTime": {
     "start_time": "2023-05-02T22:05:50.093227Z",
     "end_time": "2023-05-02T22:06:01.251278Z"
    }
   }
  }
 ],
 "metadata": {
  "kernelspec": {
   "display_name": "Python 3",
   "language": "python",
   "name": "python3"
  },
  "language_info": {
   "codemirror_mode": {
    "name": "ipython",
    "version": 2
   },
   "file_extension": ".py",
   "mimetype": "text/x-python",
   "name": "python",
   "nbconvert_exporter": "python",
   "pygments_lexer": "ipython2",
   "version": "2.7.6"
  }
 },
 "nbformat": 4,
 "nbformat_minor": 0
}

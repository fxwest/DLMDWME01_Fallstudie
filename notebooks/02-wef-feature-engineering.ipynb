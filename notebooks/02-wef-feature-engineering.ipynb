{
 "cells": [
  {
   "cell_type": "markdown",
   "source": [
    "# FEATURE ENGINEERING NOTEBOOK\n",
    "Felix A. Westphal\n",
    "DLMDWME01\n",
    "\n",
    "### Import"
   ],
   "metadata": {
    "collapsed": false
   }
  },
  {
   "cell_type": "code",
   "execution_count": 172,
   "outputs": [],
   "source": [
    "import numpy as np\n",
    "import pandas as pd\n",
    "import seaborn as sns\n",
    "import matplotlib.pyplot as plt\n",
    "from sklearn.preprocessing import MinMaxScaler, StandardScaler"
   ],
   "metadata": {
    "collapsed": false,
    "ExecuteTime": {
     "start_time": "2023-05-20T12:06:29.804750Z",
     "end_time": "2023-05-20T12:06:29.909197Z"
    }
   }
  },
  {
   "cell_type": "markdown",
   "source": [
    "### Parameter"
   ],
   "metadata": {
    "collapsed": false
   }
  },
  {
   "cell_type": "code",
   "execution_count": 173,
   "outputs": [],
   "source": [
    "FILE_PATH_CLEANED_DATA = r\"../data/processed/Cleaned_Input_Data.csv\"\n",
    "FILE_PATH_ENCODED_DATA = r\"../data/processed/Encoded_Input_Data.csv\"\n",
    "FILE_PATH_EXTENDED_DATA = r\"../data/processed/Extended_Input_Data.csv\"\n",
    "FILE_PATH_NORMALIZED_DATA = r\"../data/processed/Normalized_Input_Data.csv\"\n",
    "FILE_PATH_BALANCED_DATA = r\"../data/processed/Balanced_Input_Data.csv\"\n",
    "TIMESTAMP_FORMAT = \"%Y-%m-%d %H:%M:%S\"\n",
    "TIMESTAMP_FORMAT_MINUTE = \"%Y-%m-%d %H:%M\""
   ],
   "metadata": {
    "collapsed": false,
    "ExecuteTime": {
     "start_time": "2023-05-20T12:06:29.820377Z",
     "end_time": "2023-05-20T12:06:29.962509Z"
    }
   }
  },
  {
   "cell_type": "markdown",
   "source": [
    "### Load Data"
   ],
   "metadata": {
    "collapsed": false
   }
  },
  {
   "cell_type": "code",
   "execution_count": 174,
   "outputs": [
    {
     "name": "stdout",
     "output_type": "stream",
     "text": [
      "Cleaned Data loaded from Excel: \n",
      "                 tmsp  country  amount  success         PSP  3D_secured  \\\n",
      "0 2019-01-01 00:01:11  Germany    89.0    False     UK_Card       False   \n",
      "1 2019-01-01 00:01:17  Germany    89.0     True     UK_Card       False   \n",
      "2 2019-01-01 00:02:49  Germany   238.0    False     UK_Card        True   \n",
      "3 2019-01-01 00:03:13  Germany   238.0     True     UK_Card        True   \n",
      "4 2019-01-01 00:04:33  Austria   124.0    False  Simplecard       False   \n",
      "\n",
      "     card  \n",
      "0    Visa  \n",
      "1    Visa  \n",
      "2  Diners  \n",
      "3  Diners  \n",
      "4  Diners  \n",
      "Encoded Data loaded from Excel: \n",
      "                 tmsp  amount  success  3D_secured  Austria  Germany  \\\n",
      "0 2019-01-01 00:01:11    89.0    False       False    False     True   \n",
      "1 2019-01-01 00:01:17    89.0     True       False    False     True   \n",
      "2 2019-01-01 00:02:49   238.0    False        True    False     True   \n",
      "3 2019-01-01 00:03:13   238.0     True        True    False     True   \n",
      "4 2019-01-01 00:04:33   124.0    False       False     True    False   \n",
      "\n",
      "   Switzerland  Goldcard  Moneycard  Simplecard  UK_Card  Diners  Master  \\\n",
      "0        False     False      False       False     True   False   False   \n",
      "1        False     False      False       False     True   False   False   \n",
      "2        False     False      False       False     True    True   False   \n",
      "3        False     False      False       False     True    True   False   \n",
      "4        False     False      False        True    False    True   False   \n",
      "\n",
      "    Visa  \n",
      "0   True  \n",
      "1   True  \n",
      "2  False  \n",
      "3  False  \n",
      "4  False  \n"
     ]
    }
   ],
   "source": [
    "cleaned_data = pd.read_csv(FILE_PATH_CLEANED_DATA, parse_dates=[0])                     # Load data files\n",
    "encoded_data = pd.read_csv(FILE_PATH_ENCODED_DATA, parse_dates=[0])\n",
    "print(f\"Cleaned Data loaded from Excel: \\n{cleaned_data.head()}\")\n",
    "print(f\"Encoded Data loaded from Excel: \\n{encoded_data.head()}\")"
   ],
   "metadata": {
    "collapsed": false,
    "ExecuteTime": {
     "start_time": "2023-05-20T12:06:29.836007Z",
     "end_time": "2023-05-20T12:06:30.082253Z"
    }
   }
  },
  {
   "cell_type": "markdown",
   "source": [
    "### Number of Tries"
   ],
   "metadata": {
    "collapsed": false
   }
  },
  {
   "cell_type": "code",
   "execution_count": 175,
   "outputs": [
    {
     "name": "stdout",
     "output_type": "stream",
     "text": [
      "========== CALCULATING NUMBER OF TRIES ==========\n",
      "\n",
      "========== EXTENDED DATA FRAME ========== \n",
      "                 tmsp  amount  success  3D_secured  Austria  Germany  \\\n",
      "0 2019-01-01 00:01:11    89.0    False       False    False     True   \n",
      "1 2019-01-01 00:01:17    89.0     True       False    False     True   \n",
      "2 2019-01-01 00:02:49   238.0    False        True    False     True   \n",
      "3 2019-01-01 00:03:13   238.0     True        True    False     True   \n",
      "4 2019-01-01 00:04:33   124.0    False       False     True    False   \n",
      "\n",
      "   Switzerland  Goldcard  Moneycard  Simplecard  UK_Card  Diners  Master  \\\n",
      "0        False     False      False       False     True   False   False   \n",
      "1        False     False      False       False     True   False   False   \n",
      "2        False     False      False       False     True    True   False   \n",
      "3        False     False      False       False     True    True   False   \n",
      "4        False     False      False        True    False    True   False   \n",
      "\n",
      "    Visa  num_tries order_id  \n",
      "0   True          1        1  \n",
      "1   True          2        1  \n",
      "2  False          1        2  \n",
      "3  False          1        3  \n",
      "4  False          1        4  \n"
     ]
    }
   ],
   "source": [
    "print(\"========== CALCULATING NUMBER OF TRIES ==========\")\n",
    "tmp_data = cleaned_data.sort_values(by=\"tmsp\")                                                  # Sort the dataframe by timestamp\n",
    "tmp_data[\"num_tries\"] = 0                                                                       # Add new column\n",
    "tmp_data[\"order_id\"] = None\n",
    "\n",
    "order_id = 0\n",
    "for i in range(len(tmp_data)):\n",
    "    if i > 0 \\\n",
    "    and tmp_data.iloc[i][\"tmsp\"].strftime(TIMESTAMP_FORMAT_MINUTE) == tmp_data.iloc[i-1][\"tmsp\"].strftime(TIMESTAMP_FORMAT_MINUTE) \\\n",
    "    and tmp_data.iloc[i][\"country\"] == tmp_data.iloc[i-1][\"country\"] \\\n",
    "    and tmp_data.iloc[i][\"amount\"] == tmp_data.iloc[i-1][\"amount\"] \\\n",
    "    and tmp_data.iloc[i-1][\"success\"] == False:\n",
    "        tmp_data.at[i, \"num_tries\"] = tmp_data.iloc[i-1][\"num_tries\"] + 1\n",
    "        tmp_data.at[i, 'order_id'] = order_id\n",
    "        #tmp_data.at[i-1, 'order_id'] = None\n",
    "    else:\n",
    "        tmp_data.at[i, 'num_tries'] = 1\n",
    "        order_id = order_id + 1\n",
    "        tmp_data.at[i, 'order_id'] = order_id\n",
    "\n",
    "# --- Add new columns to encoded data frame\n",
    "extended_data = encoded_data\n",
    "extended_data[\"num_tries\"] = tmp_data[\"num_tries\"]\n",
    "extended_data[\"order_id\"] = tmp_data[\"order_id\"]\n",
    "#extended_data = extended_data[extended_data[\"order_id\"].notna()]\n",
    "\n",
    "print(f\"\\n========== EXTENDED DATA FRAME ========== \\n{extended_data.head()}\")"
   ],
   "metadata": {
    "collapsed": false,
    "ExecuteTime": {
     "start_time": "2023-05-20T12:06:30.085249Z",
     "end_time": "2023-05-20T12:06:51.360623Z"
    }
   }
  },
  {
   "cell_type": "markdown",
   "source": [
    "### Number of Tries vs. Success"
   ],
   "metadata": {
    "collapsed": false
   }
  },
  {
   "cell_type": "code",
   "execution_count": 176,
   "outputs": [
    {
     "data": {
      "text/plain": "<Figure size 640x480 with 1 Axes>",
      "image/png": "[encoded data removed]"
     },
     "metadata": {},
     "output_type": "display_data"
    }
   ],
   "source": [
    "# --- Success Rate Calculation\n",
    "tries_success = extended_data.groupby(['num_tries', 'success']).size().reset_index(name='count')                                                                           # Group the input data by num_tries and success\n",
    "success_rate_tries = tries_success.groupby('num_tries').apply(lambda x: x[x['success'] == True]['count'].sum() / x['count'].sum()).reset_index(name='success_rate')   # Calculate the success rate per num_tries\n",
    "failed_rate_tries = tries_success.groupby('num_tries').apply(lambda x: x[x['success'] == False]['count'].sum() / x['count'].sum()).reset_index(name='failed_rate')    # Calculate the fail rate per num_tries\n",
    "rates_tries = pd.merge(success_rate_tries, failed_rate_tries, on='num_tries')                                                                                       # Merge fail and pass\n",
    "\n",
    "# --- Result Plots\n",
    "ax = sns.barplot(x='num_tries', y='failed_rate', data=rates_tries, color='red')\n",
    "sns.barplot(x='num_tries', y='success_rate', data=rates_tries, color='green', ax=ax, bottom=rates_tries['failed_rate'])\n",
    "plt.title('Success and Fail Rate per Number of Tries')\n",
    "plt.show()"
   ],
   "metadata": {
    "collapsed": false,
    "ExecuteTime": {
     "start_time": "2023-05-20T12:06:51.364624Z",
     "end_time": "2023-05-20T12:06:51.535621Z"
    }
   }
  },
  {
   "cell_type": "markdown",
   "source": [
    "### Add Features based on Timestamp"
   ],
   "metadata": {
    "collapsed": false
   }
  },
  {
   "cell_type": "code",
   "execution_count": 177,
   "outputs": [
    {
     "name": "stdout",
     "output_type": "stream",
     "text": [
      "\n",
      "========== EXTENDED DATA FRAME ========== \n",
      "                 tmsp  amount  success  3D_secured  Austria  Germany  \\\n",
      "0 2019-01-01 00:01:11    89.0    False       False    False     True   \n",
      "1 2019-01-01 00:01:17    89.0     True       False    False     True   \n",
      "2 2019-01-01 00:02:49   238.0    False        True    False     True   \n",
      "3 2019-01-01 00:03:13   238.0     True        True    False     True   \n",
      "4 2019-01-01 00:04:33   124.0    False       False     True    False   \n",
      "\n",
      "   Switzerland  Goldcard  Moneycard  Simplecard  UK_Card  Diners  Master  \\\n",
      "0        False     False      False       False     True   False   False   \n",
      "1        False     False      False       False     True   False   False   \n",
      "2        False     False      False       False     True    True   False   \n",
      "3        False     False      False       False     True    True   False   \n",
      "4        False     False      False        True    False    True   False   \n",
      "\n",
      "    Visa  num_tries order_id  hour  is_weekend  \n",
      "0   True          1        1     0       False  \n",
      "1   True          2        1     0       False  \n",
      "2  False          1        2     0       False  \n",
      "3  False          1        3     0       False  \n",
      "4  False          1        4     0       False  \n",
      "Saved Extended Data Frame as .csv to: ../data/processed/Extended_Input_Data.csv\n"
     ]
    }
   ],
   "source": [
    "extended_data['hour'] = extended_data['tmsp'].dt.hour\n",
    "extended_data['is_weekend'] = extended_data['tmsp'].dt.dayofweek.isin([5, 6])\n",
    "\n",
    "print(f\"\\n========== EXTENDED DATA FRAME ========== \\n{extended_data.head()}\")\n",
    "extended_data.to_csv(FILE_PATH_EXTENDED_DATA, index=False)\n",
    "print(f\"Saved Extended Data Frame as .csv to: {FILE_PATH_EXTENDED_DATA}\")"
   ],
   "metadata": {
    "collapsed": false,
    "ExecuteTime": {
     "start_time": "2023-05-20T12:06:51.538622Z",
     "end_time": "2023-05-20T12:06:51.871241Z"
    }
   }
  },
  {
   "cell_type": "markdown",
   "source": [
    "### Weekend vs. Success"
   ],
   "metadata": {
    "collapsed": false
   }
  },
  {
   "cell_type": "code",
   "execution_count": 178,
   "outputs": [
    {
     "data": {
      "text/plain": "<Figure size 640x480 with 1 Axes>",
      "image/png": "[encoded data removed]"
     },
     "metadata": {},
     "output_type": "display_data"
    }
   ],
   "source": [
    "# --- Success Rate Calculation\n",
    "weekend_success = extended_data.groupby(['is_weekend', 'success']).size().reset_index(name='count')                                                                           # Group the input data by is_weekend and success\n",
    "success_rate_weekend = weekend_success.groupby('is_weekend').apply(lambda x: x[x['success'] == True]['count'].sum() / x['count'].sum()).reset_index(name='success_rate')   # Calculate the success rate per num_tries\n",
    "failed_rate_weekend = weekend_success.groupby('is_weekend').apply(lambda x: x[x['success'] == False]['count'].sum() / x['count'].sum()).reset_index(name='failed_rate')    # Calculate the fail rate per is_weekend\n",
    "rates_weekend = pd.merge(success_rate_weekend, failed_rate_weekend, on='is_weekend')                                                                                       # Merge fail and pass\n",
    "\n",
    "# --- Result Plots\n",
    "ax = sns.barplot(x='is_weekend', y='failed_rate', data=rates_weekend, color='red')\n",
    "sns.barplot(x='is_weekend', y='success_rate', data=rates_weekend, color='green', ax=ax, bottom=rates_weekend['failed_rate'])\n",
    "plt.title('Success and Fail Rate inside and outside weekend')\n",
    "plt.show()"
   ],
   "metadata": {
    "collapsed": false,
    "ExecuteTime": {
     "start_time": "2023-05-20T12:06:51.878221Z",
     "end_time": "2023-05-20T12:06:52.015342Z"
    }
   }
  },
  {
   "cell_type": "markdown",
   "source": [
    "### Hour vs. Success"
   ],
   "metadata": {
    "collapsed": false
   }
  },
  {
   "cell_type": "code",
   "execution_count": 179,
   "outputs": [
    {
     "data": {
      "text/plain": "<Figure size 640x480 with 1 Axes>",
      "image/png": "[encoded data removed]"
     },
     "metadata": {},
     "output_type": "display_data"
    }
   ],
   "source": [
    "# --- Success Rate Calculation\n",
    "hour_success = extended_data.groupby(['hour', 'success']).size().reset_index(name='count')                                                                           # Group the input data by hour and success\n",
    "success_rate_hour = hour_success.groupby('hour').apply(lambda x: x[x['success'] == True]['count'].sum() / x['count'].sum()).reset_index(name='success_rate')   # Calculate the success rate per hour\n",
    "failed_rate_hour = hour_success.groupby('hour').apply(lambda x: x[x['success'] == False]['count'].sum() / x['count'].sum()).reset_index(name='failed_rate')    # Calculate the fail rate per hour\n",
    "rates_hour = pd.merge(success_rate_hour, failed_rate_hour, on='hour')                                                                                       # Merge fail and pass\n",
    "\n",
    "# --- Result Plots\n",
    "ax = sns.barplot(x='hour', y='failed_rate', data=rates_hour, color='red')\n",
    "sns.barplot(x='hour', y='success_rate', data=rates_hour, color='green', ax=ax, bottom=rates_hour['failed_rate'])\n",
    "plt.title('Success and Fail Rate per hour')\n",
    "plt.show()"
   ],
   "metadata": {
    "collapsed": false,
    "ExecuteTime": {
     "start_time": "2023-05-20T12:06:52.020223Z",
     "end_time": "2023-05-20T12:06:52.332223Z"
    }
   }
  },
  {
   "cell_type": "markdown",
   "source": [
    "### Remove Outliers based on Amount\n",
    "Decreased performance"
   ],
   "metadata": {
    "collapsed": false
   }
  },
  {
   "cell_type": "code",
   "execution_count": 180,
   "outputs": [],
   "source": [
    "def identify_outliers_zscore(data, threshold=3):\n",
    "    z_scores = np.abs((data - data.mean()) / data.std())\n",
    "    return data[z_scores > threshold]\n",
    "\n",
    "#outliers = identify_outliers_zscore(extended_data['amount'])\n",
    "#extended_data = extended_data[~extended_data['amount'].isin(outliers)]\n",
    "\n",
    "#plt.title(\"Amount per Transaction after Outlier Removal\")\n",
    "#sns.histplot(data=extended_data, x=\"amount\")\n",
    "#plt.show()"
   ],
   "metadata": {
    "collapsed": false,
    "ExecuteTime": {
     "start_time": "2023-05-20T12:06:52.335221Z",
     "end_time": "2023-05-20T12:06:52.346654Z"
    }
   }
  },
  {
   "cell_type": "markdown",
   "source": [
    "### Dataset Normalization\n",
    "Normalization is a process by which we scale values to be between specified limits, usually -1 to 1 or 0 to 1. This process is important because our machine learning models are heavily affected by differences in number size.\n",
    "The difference between 200 and 1 will cause massive inaccuracies in our model compared to the difference between 1 and 0.1."
   ],
   "metadata": {
    "collapsed": false
   }
  },
  {
   "cell_type": "code",
   "execution_count": 181,
   "outputs": [
    {
     "name": "stdout",
     "output_type": "stream",
     "text": [
      "Minimum of Column \"amount\":6.0\n",
      "Maximum of Column \"amount\":630.0\n",
      "Minimum of Column \"hour\":0\n",
      "Maximum of Column \"hour\":23\n",
      "\n",
      "========== NORMALIZE DATA FRAME ========== \n",
      "                 tmsp    amount  success  3D_secured  Austria  Germany  \\\n",
      "0 2019-01-01 00:01:11  0.133013    False       False    False     True   \n",
      "1 2019-01-01 00:01:17  0.133013     True       False    False     True   \n",
      "2 2019-01-01 00:02:49  0.371795    False        True    False     True   \n",
      "3 2019-01-01 00:03:13  0.371795     True        True    False     True   \n",
      "4 2019-01-01 00:04:33  0.189103    False       False     True    False   \n",
      "\n",
      "   Switzerland  Goldcard  Moneycard  Simplecard  UK_Card  Diners  Master  \\\n",
      "0        False     False      False       False     True   False   False   \n",
      "1        False     False      False       False     True   False   False   \n",
      "2        False     False      False       False     True    True   False   \n",
      "3        False     False      False       False     True    True   False   \n",
      "4        False     False      False        True    False    True   False   \n",
      "\n",
      "    Visa  num_tries order_id      hour  is_weekend  \n",
      "0   True          1        1  0.133013       False  \n",
      "1   True          2        1  0.133013       False  \n",
      "2  False          1        2  0.371795       False  \n",
      "3  False          1        3  0.371795       False  \n",
      "4  False          1        4  0.189103       False  \n",
      "Saved Normalized Data Frame as .csv to: ../data/processed/Normalized_Input_Data.csv\n"
     ]
    }
   ],
   "source": [
    "norm_data = extended_data\n",
    "#scaler = StandardScaler()\n",
    "scaler = MinMaxScaler()\n",
    "\n",
    "# --- Amount\n",
    "amount = norm_data['amount'].values\n",
    "print(f\"Minimum of Column \\\"amount\\\":{min(amount)}\")\n",
    "print(f\"Maximum of Column \\\"amount\\\":{max(amount)}\")\n",
    "norm_data['amount'] = scaler.fit_transform(amount.reshape(-1, 1))\n",
    "\n",
    "# --- Number of Tries\n",
    "#num_tries = norm_data['num_tries'].values\n",
    "#print(f\"Minimum of Column \\\"num_tries\\\":{min(num_tries)}\")\n",
    "#print(f\"Maximum of Column \\\"num_tries\\\":{max(num_tries)}\")\n",
    "#norm_data['num_tries'] = scaler.fit_transform(amount.reshape(-1, 1))\n",
    "\n",
    "# --- Hour\n",
    "hour = norm_data['hour'].values\n",
    "print(f\"Minimum of Column \\\"hour\\\":{min(hour)}\")\n",
    "print(f\"Maximum of Column \\\"hour\\\":{max(hour)}\")\n",
    "norm_data['hour'] = scaler.fit_transform(amount.reshape(-1, 1))\n",
    "\n",
    "print(f\"\\n========== NORMALIZE DATA FRAME ========== \\n{norm_data.head()}\")\n",
    "norm_data.to_csv(FILE_PATH_NORMALIZED_DATA, index=False)\n",
    "print(f\"Saved Normalized Data Frame as .csv to: {FILE_PATH_NORMALIZED_DATA}\")"
   ],
   "metadata": {
    "collapsed": false,
    "ExecuteTime": {
     "start_time": "2023-05-20T12:06:52.349550Z",
     "end_time": "2023-05-20T12:06:52.715181Z"
    }
   }
  },
  {
   "cell_type": "markdown",
   "source": [
    "### Dataset Balancing\n",
    " Building a model with that failed vs succeeded distribution is very difficult because our model will predict significantly more failed transactions since there is such an uneven distribution.\n",
    " Equalizing the number of failed and succeeded transactions: This will allow for better prediction since the model will be trained to expect failed and not failed with an equal chance since it is a binary outcome."
   ],
   "metadata": {
    "collapsed": false
   }
  },
  {
   "cell_type": "code",
   "execution_count": 182,
   "outputs": [
    {
     "name": "stdout",
     "output_type": "stream",
     "text": [
      "Number of failed transactions: 40101\n",
      "Number of succeeded transactions: 10228\n",
      "Number of failed transactions after balancing: 10228\n",
      "Number of succeeded transactions after balancing: 10228\n",
      "\n",
      "========== BALANCED DATA FRAME ========== \n",
      "                     tmsp    amount  success  3D_secured  Austria  Germany  \\\n",
      "9680  2019-01-10 16:51:21  0.402244    False       False    False     True   \n",
      "13914 2019-01-15 22:32:40  0.081731     True       False    False    False   \n",
      "10942 2019-01-12 02:47:39  0.323718    False       False    False    False   \n",
      "5625  2019-01-06 06:55:16  0.290064     True       False     True    False   \n",
      "11843 2019-01-13 10:48:29  0.238782    False       False    False     True   \n",
      "\n",
      "       Switzerland  Goldcard  Moneycard  Simplecard  UK_Card  Diners  Master  \\\n",
      "9680         False     False      False       False     True   False    True   \n",
      "13914         True     False      False        True    False   False   False   \n",
      "10942         True     False      False        True    False   False   False   \n",
      "5625         False     False      False       False     True    True   False   \n",
      "11843        False     False      False        True    False   False    True   \n",
      "\n",
      "        Visa  num_tries order_id      hour  is_weekend  \n",
      "9680   False          2     6967  0.402244       False  \n",
      "13914   True          1    10205  0.081731       False  \n",
      "10942   True          2     7914  0.323718        True  \n",
      "5625   False          2     3978  0.290064        True  \n",
      "11843  False          1     8635  0.238782        True  \n",
      "Saved Extended Data Frame as .csv to: ../data/processed/Balanced_Input_Data.csv\n"
     ]
    }
   ],
   "source": [
    "failed_transaction = norm_data[norm_data[\"success\"] == False]\n",
    "succeeded_transaction = norm_data[norm_data[\"success\"] == True]\n",
    "num_failed = len(failed_transaction.index)\n",
    "num_succeeded = len(succeeded_transaction.index)\n",
    "print(\"Number of failed transactions: \" + str(num_failed))\n",
    "print(\"Number of succeeded transactions: \" + str(num_succeeded))\n",
    "\n",
    "# --- Equalization of data between failed and succeeded transaction\n",
    "failed_transaction = norm_data.loc[norm_data['success'] == False][:num_succeeded]            # Selecting randomly failed entries\n",
    "equalized_df = pd.concat([succeeded_transaction, failed_transaction])\n",
    "equalized_df = equalized_df.sample(frac = 1, random_state = 42)\n",
    "failed_df = equalized_df[equalized_df['success'] == False]\n",
    "succeeded_df = equalized_df[equalized_df['success'] == True]\n",
    "num_failed = len(failed_df.index)\n",
    "num_succeeded = len(succeeded_df.index)\n",
    "print(\"Number of failed transactions after balancing: \" + str(num_failed))\n",
    "print(\"Number of succeeded transactions after balancing: \" + str(num_succeeded))\n",
    "\n",
    "print(f\"\\n========== BALANCED DATA FRAME ========== \\n{equalized_df.head()}\")\n",
    "equalized_df.to_csv(FILE_PATH_BALANCED_DATA, index=False)\n",
    "print(f\"Saved Extended Data Frame as .csv to: {FILE_PATH_BALANCED_DATA}\")"
   ],
   "metadata": {
    "collapsed": false,
    "ExecuteTime": {
     "start_time": "2023-05-20T12:06:52.708236Z",
     "end_time": "2023-05-20T12:06:52.882144Z"
    }
   }
  }
 ],
 "metadata": {
  "kernelspec": {
   "display_name": "Python 3",
   "language": "python",
   "name": "python3"
  },
  "language_info": {
   "codemirror_mode": {
    "name": "ipython",
    "version": 2
   },
   "file_extension": ".py",
   "mimetype": "text/x-python",
   "name": "python",
   "nbconvert_exporter": "python",
   "pygments_lexer": "ipython2",
   "version": "2.7.6"
  }
 },
 "nbformat": 4,
 "nbformat_minor": 0
}

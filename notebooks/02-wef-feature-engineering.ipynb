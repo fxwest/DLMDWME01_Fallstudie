{
 "cells": [
  {
   "cell_type": "markdown",
   "source": [
    "# FEATURE ENGINEERING NOTEBOOK\n",
    "Felix A. Westphal\n",
    "DLMDWME01\n",
    "\n",
    "### Import"
   ],
   "metadata": {
    "collapsed": false
   }
  },
  {
   "cell_type": "code",
   "execution_count": 57,
   "outputs": [],
   "source": [
    "import pandas as pd\n",
    "import seaborn as sns\n",
    "import matplotlib.pyplot as plt\n",
    "from sklearn.preprocessing import MinMaxScaler"
   ],
   "metadata": {
    "collapsed": false,
    "ExecuteTime": {
     "start_time": "2023-05-19T21:12:49.426508Z",
     "end_time": "2023-05-19T21:12:49.495899Z"
    }
   }
  },
  {
   "cell_type": "markdown",
   "source": [
    "### Parameter"
   ],
   "metadata": {
    "collapsed": false
   }
  },
  {
   "cell_type": "code",
   "execution_count": 58,
   "outputs": [],
   "source": [
    "FILE_PATH_CLEANED_DATA = r\"../data/processed/Cleaned_Input_Data.csv\"\n",
    "FILE_PATH_ENCODED_DATA = r\"../data/processed/Encoded_Input_Data.csv\"\n",
    "FILE_PATH_EXTENDED_DATA = r\"../data/processed/Extended_Input_Data.csv\"\n",
    "FILE_PATH_NORMALIZED_DATA = r\"../data/processed/Normalized_Input_Data.csv\"\n",
    "FILE_PATH_BALANCED_DATA = r\"../data/processed/Balanced_Input_Data.csv\"\n",
    "TIMESTAMP_FORMAT = \"%Y-%m-%d %H:%M:%S\"\n",
    "TIMESTAMP_FORMAT_MINUTE = \"%Y-%m-%d %H:%M\""
   ],
   "metadata": {
    "collapsed": false,
    "ExecuteTime": {
     "start_time": "2023-05-19T21:12:49.445898Z",
     "end_time": "2023-05-19T21:12:49.497900Z"
    }
   }
  },
  {
   "cell_type": "markdown",
   "source": [
    "### Load Data"
   ],
   "metadata": {
    "collapsed": false
   }
  },
  {
   "cell_type": "code",
   "execution_count": 59,
   "outputs": [
    {
     "name": "stdout",
     "output_type": "stream",
     "text": [
      "Cleaned Data loaded from Excel: \n",
      "                 tmsp  country  amount  success         PSP  3D_secured  \\\n",
      "0 2019-01-01 00:01:11  Germany    89.0    False     UK_Card       False   \n",
      "1 2019-01-01 00:01:17  Germany    89.0     True     UK_Card       False   \n",
      "2 2019-01-01 00:02:49  Germany   238.0    False     UK_Card        True   \n",
      "3 2019-01-01 00:03:13  Germany   238.0     True     UK_Card        True   \n",
      "4 2019-01-01 00:04:33  Austria   124.0    False  Simplecard       False   \n",
      "\n",
      "     card  \n",
      "0    Visa  \n",
      "1    Visa  \n",
      "2  Diners  \n",
      "3  Diners  \n",
      "4  Diners  \n",
      "Encoded Data loaded from Excel: \n",
      "                 tmsp  amount  success  3D_secured  Austria  Germany  \\\n",
      "0 2019-01-01 00:01:11    89.0    False       False    False     True   \n",
      "1 2019-01-01 00:01:17    89.0     True       False    False     True   \n",
      "2 2019-01-01 00:02:49   238.0    False        True    False     True   \n",
      "3 2019-01-01 00:03:13   238.0     True        True    False     True   \n",
      "4 2019-01-01 00:04:33   124.0    False       False     True    False   \n",
      "\n",
      "   Switzerland  Goldcard  Moneycard  Simplecard  UK_Card  Diners  Master  \\\n",
      "0        False     False      False       False     True   False   False   \n",
      "1        False     False      False       False     True   False   False   \n",
      "2        False     False      False       False     True    True   False   \n",
      "3        False     False      False       False     True    True   False   \n",
      "4        False     False      False        True    False    True   False   \n",
      "\n",
      "    Visa  \n",
      "0   True  \n",
      "1   True  \n",
      "2  False  \n",
      "3  False  \n",
      "4  False  \n"
     ]
    }
   ],
   "source": [
    "cleaned_data = pd.read_csv(FILE_PATH_CLEANED_DATA, parse_dates=[0])                     # Load data files\n",
    "encoded_data = pd.read_csv(FILE_PATH_ENCODED_DATA, parse_dates=[0])\n",
    "print(f\"Cleaned Data loaded from Excel: \\n{cleaned_data.head()}\")\n",
    "print(f\"Encoded Data loaded from Excel: \\n{encoded_data.head()}\")"
   ],
   "metadata": {
    "collapsed": false,
    "ExecuteTime": {
     "start_time": "2023-05-19T21:12:49.459899Z",
     "end_time": "2023-05-19T21:12:49.636898Z"
    }
   }
  },
  {
   "cell_type": "markdown",
   "source": [
    "### Number of Tries"
   ],
   "metadata": {
    "collapsed": false
   }
  },
  {
   "cell_type": "code",
   "execution_count": 60,
   "outputs": [
    {
     "name": "stdout",
     "output_type": "stream",
     "text": [
      "========== CALCULATING NUMBER OF TRIES ==========\n",
      "\n",
      "========== EXTENDED DATA FRAME ========== \n",
      "                 tmsp  amount  success  3D_secured  Austria  Germany  \\\n",
      "0 2019-01-01 00:01:11    89.0    False       False    False     True   \n",
      "1 2019-01-01 00:01:17    89.0     True       False    False     True   \n",
      "2 2019-01-01 00:02:49   238.0    False        True    False     True   \n",
      "3 2019-01-01 00:03:13   238.0     True        True    False     True   \n",
      "4 2019-01-01 00:04:33   124.0    False       False     True    False   \n",
      "\n",
      "   Switzerland  Goldcard  Moneycard  Simplecard  UK_Card  Diners  Master  \\\n",
      "0        False     False      False       False     True   False   False   \n",
      "1        False     False      False       False     True   False   False   \n",
      "2        False     False      False       False     True    True   False   \n",
      "3        False     False      False       False     True    True   False   \n",
      "4        False     False      False        True    False    True   False   \n",
      "\n",
      "    Visa  num_tries order_id  \n",
      "0   True          1        1  \n",
      "1   True          2        1  \n",
      "2  False          1        2  \n",
      "3  False          1        3  \n",
      "4  False          1        4  \n",
      "Saved Extended Data Frame as .csv to: ../data/processed/Extended_Input_Data.csv\n"
     ]
    }
   ],
   "source": [
    "print(\"========== CALCULATING NUMBER OF TRIES ==========\")\n",
    "tmp_data = cleaned_data.sort_values(by=\"tmsp\")                                               # Sort the dataframe by timestamp\n",
    "tmp_data[\"num_tries\"] = 0                                                                  # Add new column\n",
    "tmp_data[\"order_id\"] = None\n",
    "\n",
    "order_id = 0\n",
    "for i in range(len(tmp_data)):\n",
    "    if i > 0 \\\n",
    "    and tmp_data.iloc[i][\"tmsp\"].strftime(TIMESTAMP_FORMAT_MINUTE) == tmp_data.iloc[i-1][\"tmsp\"].strftime(TIMESTAMP_FORMAT_MINUTE) \\\n",
    "    and tmp_data.iloc[i][\"country\"] == tmp_data.iloc[i-1][\"country\"] \\\n",
    "    and tmp_data.iloc[i][\"amount\"] == tmp_data.iloc[i-1][\"amount\"]:\n",
    "        tmp_data.at[i, \"num_tries\"] = tmp_data.iloc[i-1][\"num_tries\"] + 1\n",
    "        tmp_data.at[i, 'order_id'] = order_id\n",
    "    else:\n",
    "        tmp_data.at[i, 'num_tries'] = 1\n",
    "        order_id = order_id + 1\n",
    "        tmp_data.at[i, 'order_id'] = order_id\n",
    "\n",
    "# --- Add new columns to encoded data frame\n",
    "extended_data = encoded_data\n",
    "extended_data[\"num_tries\"] = tmp_data[\"num_tries\"]\n",
    "extended_data[\"order_id\"] = tmp_data[\"order_id\"]\n",
    "\n",
    "print(f\"\\n========== EXTENDED DATA FRAME ========== \\n{extended_data.head()}\")\n",
    "extended_data.to_csv(FILE_PATH_EXTENDED_DATA, index=False)\n",
    "print(f\"Saved Extended Data Frame as .csv to: {FILE_PATH_EXTENDED_DATA}\")"
   ],
   "metadata": {
    "collapsed": false,
    "ExecuteTime": {
     "start_time": "2023-05-19T21:12:49.633900Z",
     "end_time": "2023-05-19T21:13:04.804446Z"
    }
   }
  },
  {
   "cell_type": "markdown",
   "source": [
    "### Number of Tries vs. Success"
   ],
   "metadata": {
    "collapsed": false
   }
  },
  {
   "cell_type": "code",
   "execution_count": 61,
   "outputs": [
    {
     "data": {
      "text/plain": "<Figure size 640x480 with 1 Axes>",
      "image/png": "[encoded data removed]"
     },
     "metadata": {},
     "output_type": "display_data"
    }
   ],
   "source": [
    "# --- Success Rate Calculation\n",
    "tries_success = extended_data.groupby(['num_tries', 'success']).size().reset_index(name='count')                                                                           # Group the input data by num_tries and success\n",
    "success_rate_tries = tries_success.groupby('num_tries').apply(lambda x: x[x['success'] == True]['count'].sum() / x['count'].sum()).reset_index(name='success_rate')   # Calculate the success rate per num_tries\n",
    "failed_rate_tries = tries_success.groupby('num_tries').apply(lambda x: x[x['success'] == False]['count'].sum() / x['count'].sum()).reset_index(name='failed_rate')    # Calculate the fail rate per num_tries\n",
    "rates_tries = pd.merge(success_rate_tries, failed_rate_tries, on='num_tries')                                                                                       # Merge fail and pass\n",
    "\n",
    "# --- Result Plots\n",
    "ax = sns.barplot(x='num_tries', y='failed_rate', data=rates_tries, color='red')\n",
    "sns.barplot(x='num_tries', y='success_rate', data=rates_tries, color='green', ax=ax, bottom=rates_tries['failed_rate'])\n",
    "plt.title('Success and Fail Rate per Number of Tries')\n",
    "plt.show()"
   ],
   "metadata": {
    "collapsed": false,
    "ExecuteTime": {
     "start_time": "2023-05-19T21:13:04.804446Z",
     "end_time": "2023-05-19T21:13:04.998651Z"
    }
   }
  },
  {
   "cell_type": "markdown",
   "source": [
    "### Dataset Normalization\n",
    "Normalization is a process by which we scale values to be between specified limits, usually -1 to 1 or 0 to 1. This process is important because our machine learning models are heavily affected by differences in number size.\n",
    "The difference between 200 and 1 will cause massive inaccuracies in our model compared to the difference between 1 and 0.1."
   ],
   "metadata": {
    "collapsed": false
   }
  },
  {
   "cell_type": "code",
   "execution_count": 62,
   "outputs": [
    {
     "name": "stdout",
     "output_type": "stream",
     "text": [
      "Maximus of Column \"amount\":[630.]\n",
      "                     tmsp    amount  success  3D_secured  Austria  Germany  \\\n",
      "0     2019-01-01 00:01:11  0.133013    False       False    False     True   \n",
      "1     2019-01-01 00:01:17  0.133013     True       False    False     True   \n",
      "2     2019-01-01 00:02:49  0.371795    False        True    False     True   \n",
      "3     2019-01-01 00:03:13  0.371795     True        True    False     True   \n",
      "4     2019-01-01 00:04:33  0.189103    False       False     True    False   \n",
      "...                   ...       ...      ...         ...      ...      ...   \n",
      "50405 2019-02-28 23:45:39  0.655449    False       False    False    False   \n",
      "50406 2019-02-28 23:46:48  0.136218    False       False     True    False   \n",
      "50407 2019-02-28 23:47:04  0.136218    False       False     True    False   \n",
      "50408 2019-02-28 23:47:36  0.136218    False       False     True    False   \n",
      "50409 2019-02-28 23:48:19  0.136218     True       False     True    False   \n",
      "\n",
      "       Switzerland  Goldcard  Moneycard  Simplecard  UK_Card  Diners  Master  \\\n",
      "0            False     False      False       False     True   False   False   \n",
      "1            False     False      False       False     True   False   False   \n",
      "2            False     False      False       False     True    True   False   \n",
      "3            False     False      False       False     True    True   False   \n",
      "4            False     False      False        True    False    True   False   \n",
      "...            ...       ...        ...         ...      ...     ...     ...   \n",
      "50405         True     False      False       False     True   False   False   \n",
      "50406        False     False      False       False     True   False    True   \n",
      "50407        False     False      False       False     True   False    True   \n",
      "50408        False     False      False       False     True   False    True   \n",
      "50409        False     False       True       False    False   False    True   \n",
      "\n",
      "        Visa  num_tries order_id  \n",
      "0       True          1        1  \n",
      "1       True          2        1  \n",
      "2      False          1        2  \n",
      "3      False          1        3  \n",
      "4      False          1        4  \n",
      "...      ...        ...      ...  \n",
      "50405   True          2    37822  \n",
      "50406  False          1    37823  \n",
      "50407  False          1    37824  \n",
      "50408  False          2    37824  \n",
      "50409  False          1    37825  \n",
      "\n",
      "[50410 rows x 16 columns]\n",
      "\n",
      "========== NORMALIZE DATA FRAME ========== \n",
      "                 tmsp    amount  success  3D_secured  Austria  Germany  \\\n",
      "0 2019-01-01 00:01:11  0.133013    False       False    False     True   \n",
      "1 2019-01-01 00:01:17  0.133013     True       False    False     True   \n",
      "2 2019-01-01 00:02:49  0.371795    False        True    False     True   \n",
      "3 2019-01-01 00:03:13  0.371795     True        True    False     True   \n",
      "4 2019-01-01 00:04:33  0.189103    False       False     True    False   \n",
      "\n",
      "   Switzerland  Goldcard  Moneycard  Simplecard  UK_Card  Diners  Master  \\\n",
      "0        False     False      False       False     True   False   False   \n",
      "1        False     False      False       False     True   False   False   \n",
      "2        False     False      False       False     True    True   False   \n",
      "3        False     False      False       False     True    True   False   \n",
      "4        False     False      False        True    False    True   False   \n",
      "\n",
      "    Visa  num_tries order_id  \n",
      "0   True          1        1  \n",
      "1   True          2        1  \n",
      "2  False          1        2  \n",
      "3  False          1        3  \n",
      "4  False          1        4  \n",
      "Saved Normalized Data Frame as .csv to: ../data/processed/Normalized_Input_Data.csv\n"
     ]
    }
   ],
   "source": [
    "norm_data = extended_data\n",
    "scaler = MinMaxScaler()\n",
    "scaler.fit(norm_data['amount'].values.reshape(-1, 1))\n",
    "norm_data['amount'] = scaler.fit_transform(norm_data['amount'].values.reshape(-1, 1))\n",
    "print(f\"Maximus of Column \\\"amount\\\":{scaler.data_max_}\")\n",
    "print(norm_data)\n",
    "\n",
    "print(f\"\\n========== NORMALIZE DATA FRAME ========== \\n{norm_data.head()}\")\n",
    "norm_data.to_csv(FILE_PATH_NORMALIZED_DATA, index=False)\n",
    "print(f\"Saved Normalized Data Frame as .csv to: {FILE_PATH_NORMALIZED_DATA}\")"
   ],
   "metadata": {
    "collapsed": false,
    "ExecuteTime": {
     "start_time": "2023-05-19T21:13:04.998651Z",
     "end_time": "2023-05-19T21:13:05.374671Z"
    }
   }
  },
  {
   "cell_type": "markdown",
   "source": [
    "### Dataset Balancing\n",
    " Building a model with that failed vs succeeded distribution is very difficult because our model will predict significantly more failed transactions since there is such an uneven distribution.\n",
    " Equalizing the number of failed and succeeded transactions: This will allow for better prediction since the model will be trained to expect failed and not failed with an equal chance since it is a binary outcome."
   ],
   "metadata": {
    "collapsed": false
   }
  },
  {
   "cell_type": "code",
   "execution_count": 63,
   "outputs": [
    {
     "name": "stdout",
     "output_type": "stream",
     "text": [
      "Number of failed transactions: 40182\n",
      "Number of succeeded transactions: 10228\n",
      "Number of failed transactions after balancing: 10228\n",
      "Number of succeeded transactions after balancing: 10228\n",
      "\n",
      "========== BALANCED DATA FRAME ========== \n",
      "                     tmsp    amount  success  3D_secured  Austria  Germany  \\\n",
      "9675  2019-01-10 16:10:29  0.394231    False       False    False    False   \n",
      "13935 2019-01-15 22:32:40  0.081731     True       False    False    False   \n",
      "10939 2019-01-12 02:22:27  0.424679    False       False    False     True   \n",
      "5635  2019-01-06 06:55:16  0.290064     True       False     True    False   \n",
      "11839 2019-01-13 09:52:50  0.354167    False       False    False     True   \n",
      "\n",
      "       Switzerland  Goldcard  Moneycard  Simplecard  UK_Card  Diners  Master  \\\n",
      "9675          True     False      False       False     True    True   False   \n",
      "13935         True     False      False        True    False   False   False   \n",
      "10939        False     False      False       False     True   False    True   \n",
      "5635         False     False      False       False     True    True   False   \n",
      "11839        False     False      False        True    False    True   False   \n",
      "\n",
      "        Visa  num_tries order_id  \n",
      "9675   False          1     6951  \n",
      "13935   True          1    10202  \n",
      "10939  False          1     7896  \n",
      "5635   False          2     3977  \n",
      "11839  False          2     8616  \n",
      "Saved Extended Data Frame as .csv to: ../data/processed/Balanced_Input_Data.csv\n"
     ]
    }
   ],
   "source": [
    "failed_transaction = norm_data[norm_data[\"success\"] == False]\n",
    "succeeded_transaction = norm_data[norm_data[\"success\"] == True]\n",
    "num_failed = len(failed_transaction.index)\n",
    "num_succeeded = len(succeeded_transaction.index)\n",
    "print(\"Number of failed transactions: \" + str(num_failed))\n",
    "print(\"Number of succeeded transactions: \" + str(num_succeeded))\n",
    "\n",
    "# --- Equalization of data between failed and succeeded transaction\n",
    "failed_transaction = norm_data.loc[norm_data['success'] == False][:num_succeeded]            # Selecting randomly failed entries\n",
    "equalized_df = pd.concat([succeeded_transaction, failed_transaction])\n",
    "equalized_df = equalized_df.sample(frac = 1, random_state = 42)\n",
    "failed_df = equalized_df[equalized_df['success'] == False]\n",
    "succeeded_df = equalized_df[equalized_df['success'] == True]\n",
    "num_failed = len(failed_df.index)\n",
    "num_succeeded = len(succeeded_df.index)\n",
    "print(\"Number of failed transactions after balancing: \" + str(num_failed))\n",
    "print(\"Number of succeeded transactions after balancing: \" + str(num_succeeded))\n",
    "\n",
    "print(f\"\\n========== BALANCED DATA FRAME ========== \\n{equalized_df.head()}\")\n",
    "equalized_df.to_csv(FILE_PATH_BALANCED_DATA, index=False)\n",
    "print(f\"Saved Extended Data Frame as .csv to: {FILE_PATH_BALANCED_DATA}\")"
   ],
   "metadata": {
    "collapsed": false,
    "ExecuteTime": {
     "start_time": "2023-05-19T21:13:05.374671Z",
     "end_time": "2023-05-19T21:13:05.558903Z"
    }
   }
  }
 ],
 "metadata": {
  "kernelspec": {
   "display_name": "Python 3",
   "language": "python",
   "name": "python3"
  },
  "language_info": {
   "codemirror_mode": {
    "name": "ipython",
    "version": 2
   },
   "file_extension": ".py",
   "mimetype": "text/x-python",
   "name": "python",
   "nbconvert_exporter": "python",
   "pygments_lexer": "ipython2",
   "version": "2.7.6"
  }
 },
 "nbformat": 4,
 "nbformat_minor": 0
}

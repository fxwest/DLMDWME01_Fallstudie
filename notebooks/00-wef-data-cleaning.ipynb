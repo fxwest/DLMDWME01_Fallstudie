{
 "cells": [
  {
   "cell_type": "markdown",
   "source": [
    "# DATA CLEANING NOTEBOOK\n",
    "Felix A. Westphal\n",
    "DLMDWME01\n",
    "\n",
    "### Import"
   ],
   "metadata": {
    "collapsed": false
   }
  },
  {
   "cell_type": "code",
   "execution_count": 38,
   "outputs": [],
   "source": [
    "import numpy as np\n",
    "import pandas as pd\n",
    "import statsmodels.api as sm\n",
    "from datetime import datetime\n",
    "from sklearn.preprocessing import OneHotEncoder"
   ],
   "metadata": {
    "collapsed": false,
    "ExecuteTime": {
     "start_time": "2023-05-20T10:06:39.420318Z",
     "end_time": "2023-05-20T10:06:39.449153Z"
    }
   }
  },
  {
   "cell_type": "markdown",
   "source": [
    "### Parameter"
   ],
   "metadata": {
    "collapsed": false
   }
  },
  {
   "cell_type": "code",
   "execution_count": 39,
   "outputs": [],
   "source": [
    "FILE_PATH_RAW_DATA = r\"../data/raw/PSP_Jan_Feb_2019.xlsx\"\n",
    "FILE_PATH_CLEANED_DATA = r\"../data/processed/Cleaned_Input_Data.csv\"\n",
    "FILE_PATH_ENCODED_DATA = r\"../data/processed/Encoded_Input_Data.csv\"\n",
    "TIMESTAMP_FORMAT = \"%Y-%m-%d %H:%M:%S\""
   ],
   "metadata": {
    "collapsed": false,
    "ExecuteTime": {
     "start_time": "2023-05-20T10:06:39.427318Z",
     "end_time": "2023-05-20T10:06:39.473151Z"
    }
   }
  },
  {
   "cell_type": "markdown",
   "source": [
    "### Value Types and Ranges"
   ],
   "metadata": {
    "collapsed": false
   }
  },
  {
   "cell_type": "code",
   "execution_count": 40,
   "outputs": [],
   "source": [
    "COLUMN_HEADERS = [\"tmsp\", \"country\", \"amount\", \"success\", \"PSP\", \"3D_secured\", \"card\"]\n",
    "VALUE_RANGE_TMSP = [datetime.strptime(\"2010-01-01 00:00:00\", TIMESTAMP_FORMAT), datetime.now()]\n",
    "VALUE_RANGE_AMOUNT = [0.0, None]\n",
    "VALUE_RANGE_PSP = [\"Moneycard\", \"Goldcard\", \"UK_Card\", \"Simplecard\"]\n",
    "VALUE_RANGE_CARD = [\"Master\", \"Visa\", \"Diners\"]\n",
    "DEFINED_TYPES = [\"datetime64[ns]\", \"string\", \"float32\", bool, \"string\", bool, \"string\"]\n",
    "VALUE_RANGES = [VALUE_RANGE_TMSP, None, VALUE_RANGE_AMOUNT, None, VALUE_RANGE_PSP, None, VALUE_RANGE_CARD]\n",
    "value_range_dict = {k : {\"type\" : v1, \"range\" : v2} for k, v1, v2 in zip(COLUMN_HEADERS, DEFINED_TYPES, VALUE_RANGES)}"
   ],
   "metadata": {
    "collapsed": false,
    "ExecuteTime": {
     "start_time": "2023-05-20T10:06:39.445689Z",
     "end_time": "2023-05-20T10:06:39.474151Z"
    }
   }
  },
  {
   "cell_type": "markdown",
   "source": [
    "### Load Raw Data and remove NAN values"
   ],
   "metadata": {
    "collapsed": false
   }
  },
  {
   "cell_type": "code",
   "execution_count": 41,
   "outputs": [
    {
     "name": "stdout",
     "output_type": "stream",
     "text": [
      "Raw Data loaded from Excel: \n",
      "                 tmsp  country  amount  success         PSP  3D_secured  \\\n",
      "0 2019-01-01 00:01:11  Germany      89        0     UK_Card           0   \n",
      "1 2019-01-01 00:01:17  Germany      89        1     UK_Card           0   \n",
      "2 2019-01-01 00:02:49  Germany     238        0     UK_Card           1   \n",
      "3 2019-01-01 00:03:13  Germany     238        1     UK_Card           1   \n",
      "4 2019-01-01 00:04:33  Austria     124        0  Simplecard           0   \n",
      "\n",
      "     card  \n",
      "0    Visa  \n",
      "1    Visa  \n",
      "2  Diners  \n",
      "3  Diners  \n",
      "4  Diners  \n",
      "Number of NAN values per column: \n",
      "tmsp          0\n",
      "country       0\n",
      "amount        0\n",
      "success       0\n",
      "PSP           0\n",
      "3D_secured    0\n",
      "card          0\n",
      "dtype: int64\n",
      "Total number of NAN values: 0\n",
      "Number of entries of the Filtered Data Frame: 50410\n",
      "Number of removed duplicated entries: 81\n",
      "Number of entries of the Filtered Data Frame after dropping duplicates: 50329\n"
     ]
    }
   ],
   "source": [
    "raw_data = pd.read_excel(FILE_PATH_RAW_DATA, index_col=0)       # Load raw data file\n",
    "print(f\"Raw Data loaded from Excel: \\n{raw_data.head()}\")\n",
    "sum_nan_column = raw_data.isna().sum()                          # Check for nan values\n",
    "print(f\"Number of NAN values per column: \\n{sum_nan_column}\")\n",
    "total_sum_nan = sum_nan_column.sum()\n",
    "print(f\"Total number of NAN values: {total_sum_nan}\")\n",
    "if total_sum_nan > 0:\n",
    "    filtered_df = raw_data.dropna()\n",
    "    print(f\"Filtered Data Frame: \\n{filtered_df.head()}\")\n",
    "else:\n",
    "    filtered_df = raw_data\n",
    "num_entries = len(filtered_df.index)\n",
    "print(f\"Number of entries of the Filtered Data Frame: {num_entries}\")\n",
    "filtered_df.drop_duplicates(inplace=True)\n",
    "print(f\"Number of removed duplicated entries: {num_entries - len(filtered_df.index)}\")\n",
    "num_entries = len(filtered_df.index)\n",
    "print(f\"Number of entries of the Filtered Data Frame after dropping duplicates: {num_entries}\")"
   ],
   "metadata": {
    "collapsed": false,
    "ExecuteTime": {
     "start_time": "2023-05-20T10:06:39.459152Z",
     "end_time": "2023-05-20T10:06:43.228434Z"
    }
   }
  },
  {
   "cell_type": "markdown",
   "source": [
    "### Check valid Value Range"
   ],
   "metadata": {
    "collapsed": false
   }
  },
  {
   "cell_type": "code",
   "execution_count": 42,
   "outputs": [
    {
     "name": "stdout",
     "output_type": "stream",
     "text": [
      "\n",
      "========== CHECKING VALUE RANGES AND TYPES ==========\n",
      "--- Current Column: tmsp ---\n",
      "Current Type / Defined Type: datetime64[ns] / datetime64[ns]\n",
      "Min Value / Defined min Value: 2019-01-01 00:01:11 / 2010-01-01 00:00:00\n",
      "Max Value / Defined max Value: 2019-02-28 23:48:19 / 2023-05-20 10:06:39.442688\n",
      "--- Current Column: country ---\n",
      "Current Type / Defined Type: object / string\n",
      "Changed type to string\n",
      "--- Current Column: amount ---\n",
      "Current Type / Defined Type: int64 / float32\n",
      "Changed type to float32\n",
      "--- Current Column: success ---\n",
      "Current Type / Defined Type: int64 / <class 'bool'>\n",
      "Changed type to bool\n",
      "--- Current Column: PSP ---\n",
      "Current Type / Defined Type: object / string\n",
      "Changed type to string\n",
      "--- Current Column: 3D_secured ---\n",
      "Current Type / Defined Type: int64 / <class 'bool'>\n",
      "Changed type to bool\n",
      "--- Current Column: card ---\n",
      "Current Type / Defined Type: object / string\n",
      "Changed type to string\n",
      "\n",
      "--- Deleted 0 rows from Filtered Data Frame. ---\n",
      "\n",
      "========== CLEANED DATA FRAME ========== \n",
      "                 tmsp  country  amount  success         PSP  3D_secured  \\\n",
      "0 2019-01-01 00:01:11  Germany    89.0    False     UK_Card       False   \n",
      "1 2019-01-01 00:01:17  Germany    89.0     True     UK_Card       False   \n",
      "2 2019-01-01 00:02:49  Germany   238.0    False     UK_Card        True   \n",
      "3 2019-01-01 00:03:13  Germany   238.0     True     UK_Card        True   \n",
      "4 2019-01-01 00:04:33  Austria   124.0    False  Simplecard       False   \n",
      "\n",
      "     card  \n",
      "0    Visa  \n",
      "1    Visa  \n",
      "2  Diners  \n",
      "3  Diners  \n",
      "4  Diners  \n",
      "Saved Cleaned Data Frame as .csv to: ../data/processed/Cleaned_Input_Data.csv\n"
     ]
    }
   ],
   "source": [
    "print(f\"\\n========== CHECKING VALUE RANGES AND TYPES ==========\")\n",
    "# --- Loop through coloumns and check whether datatype is as defined, change if not.\n",
    "num_rows_filtered = len(filtered_df.index)\n",
    "for column_header in COLUMN_HEADERS:\n",
    "    print(f\"--- Current Column: {column_header} ---\")\n",
    "    column = filtered_df[column_header]\n",
    "    defined_type = value_range_dict[column_header][\"type\"]\n",
    "    current_type = column.dtype\n",
    "    print(f\"Current Type / Defined Type: {current_type} / {defined_type}\")\n",
    "    if current_type != defined_type:\n",
    "        if defined_type == datetime:\n",
    "            column = pd.to_datetime(column, errors=\"coerce\", format=TIMESTAMP_FORMAT)\n",
    "        elif defined_type == float:\n",
    "            column = pd.to_numeric(column, errors=\"coerce\", downcast=defined_type)\n",
    "        else:\n",
    "            column = column.astype(defined_type)\n",
    "        current_type = column.dtype\n",
    "        print(f\"Changed type to {current_type}\")\n",
    "    filtered_df[column_header] = column\n",
    "\n",
    "    # --- Check whether values are within defined value range.\n",
    "    defined_value_range = value_range_dict[column_header][\"range\"]\n",
    "    if defined_value_range:\n",
    "        if len(defined_value_range) == 2:\n",
    "            min_value_defined = defined_value_range[0]\n",
    "            max_value_defined = defined_value_range[1]\n",
    "            if min_value_defined:\n",
    "                min_value = min(column)\n",
    "                print(f\"Min Value / Defined min Value: {min_value} / {min_value_defined}\")\n",
    "                if min_value < min_value_defined:\n",
    "                    print(f\"Found entry with smaller value than defined. Removing entry!\")\n",
    "                    filtered_df = filtered_df[filtered_df[column_header] >= min_value_defined]\n",
    "            if max_value_defined:\n",
    "                max_value = max(column)\n",
    "                print(f\"Max Value / Defined max Value: {max_value} / {max_value_defined}\")\n",
    "                if max_value > max_value_defined:\n",
    "                    print(f\"Found entry with larger value than defined. Removing entry!\")\n",
    "                    filtered_df = filtered_df[filtered_df[column_header] <= max_value_defined]\n",
    "        else:\n",
    "            unique_values = list(pd.unique(filtered_df[column_header]))\n",
    "            not_defined_values = [value for value in unique_values if value not in defined_value_range]\n",
    "            if len(not_defined_values) > 0:\n",
    "                filtered_df = filtered_df[~filtered_df[column_header].isin(not_defined_values)]             # Remove all columns which are outside the defined range\n",
    "\n",
    "cleaned_df = filtered_df.dropna()\n",
    "num_rows_cleaned = len(cleaned_df.index)\n",
    "num_rows_deleted = num_rows_filtered - num_rows_cleaned\n",
    "print(f\"\\n--- Deleted {num_rows_deleted} rows from Filtered Data Frame. ---\")\n",
    "print(f\"\\n========== CLEANED DATA FRAME ========== \\n{filtered_df.head()}\")\n",
    "cleaned_df.to_csv(FILE_PATH_CLEANED_DATA, index=False)\n",
    "print(f\"Saved Cleaned Data Frame as .csv to: {FILE_PATH_CLEANED_DATA}\")"
   ],
   "metadata": {
    "collapsed": false,
    "ExecuteTime": {
     "start_time": "2023-05-20T10:06:43.237362Z",
     "end_time": "2023-05-20T10:06:43.544244Z"
    }
   }
  },
  {
   "cell_type": "markdown",
   "source": [
    "### Categorical Encoding\n",
    "Choosing One-Hot Encoding as the categorical features (country, PSP, card) are not ordinal."
   ],
   "metadata": {
    "collapsed": false
   }
  },
  {
   "cell_type": "code",
   "execution_count": 43,
   "outputs": [
    {
     "name": "stdout",
     "output_type": "stream",
     "text": [
      "\n",
      "========== ONE HOT ENCODING CATEGORICAL DATA ==========\n",
      "Encoded the following country categories: ['Austria' 'Germany' 'Switzerland']\n",
      "Encoded the following PSP categories: ['Goldcard' 'Moneycard' 'Simplecard' 'UK_Card']\n",
      "Encoded the following card categories: ['Diners' 'Master' 'Visa']\n",
      "\n",
      "========== ENCODED DATA FRAME ========== \n",
      "                 tmsp  amount  success  3D_secured  Austria  Germany  \\\n",
      "0 2019-01-01 00:01:11    89.0    False       False    False     True   \n",
      "1 2019-01-01 00:01:17    89.0     True       False    False     True   \n",
      "2 2019-01-01 00:02:49   238.0    False        True    False     True   \n",
      "3 2019-01-01 00:03:13   238.0     True        True    False     True   \n",
      "4 2019-01-01 00:04:33   124.0    False       False     True    False   \n",
      "\n",
      "   Switzerland  Goldcard  Moneycard  Simplecard  UK_Card  Diners  Master  \\\n",
      "0        False     False      False       False     True   False   False   \n",
      "1        False     False      False       False     True   False   False   \n",
      "2        False     False      False       False     True    True   False   \n",
      "3        False     False      False       False     True    True   False   \n",
      "4        False     False      False        True    False    True   False   \n",
      "\n",
      "    Visa  \n",
      "0   True  \n",
      "1   True  \n",
      "2  False  \n",
      "3  False  \n",
      "4  False  \n",
      "Saved Encoded Data Frame as .csv to: ../data/processed/Encoded_Input_Data.csv\n"
     ]
    }
   ],
   "source": [
    "print(f\"\\n========== ONE HOT ENCODING CATEGORICAL DATA ==========\")\n",
    "ohe = OneHotEncoder()\n",
    "encoded_country = ohe.fit_transform(cleaned_df[['country']]).toarray()\n",
    "categories_country = ohe.categories_[0]\n",
    "print(f\"Encoded the following country categories: {categories_country}\")\n",
    "\n",
    "encoded_psp = ohe.fit_transform(cleaned_df[['PSP']]).toarray()\n",
    "categories_psp = ohe.categories_[0]\n",
    "print(f\"Encoded the following PSP categories: {categories_psp}\")\n",
    "\n",
    "encoded_card = ohe.fit_transform(cleaned_df[['card']]).toarray()\n",
    "categories_card = ohe.categories_[0]\n",
    "print(f\"Encoded the following card categories: {categories_card}\")\n",
    "\n",
    "# --- Insert encoded data into dataframe\n",
    "encoded_df = cleaned_df\n",
    "encoded_df[categories_country] = np.array(encoded_country, dtype=bool)\n",
    "encoded_df[categories_psp] = np.array(encoded_psp, dtype=bool)\n",
    "encoded_df[categories_card] = np.array(encoded_card, dtype=bool)\n",
    "\n",
    "# --- Drop previous categorical columns\n",
    "encoded_df = encoded_df.drop(['country'], axis=1)\n",
    "encoded_df = encoded_df.drop(['PSP'], axis=1)\n",
    "encoded_df = encoded_df.drop(['card'], axis=1)\n",
    "\n",
    "print(f\"\\n========== ENCODED DATA FRAME ========== \\n{encoded_df.head()}\")\n",
    "encoded_df.to_csv(FILE_PATH_ENCODED_DATA, index=False)\n",
    "print(f\"Saved Encoded Data Frame as .csv to: {FILE_PATH_ENCODED_DATA}\")"
   ],
   "metadata": {
    "collapsed": false,
    "ExecuteTime": {
     "start_time": "2023-05-20T10:06:43.545248Z",
     "end_time": "2023-05-20T10:06:43.784610Z"
    }
   }
  }
 ],
 "metadata": {
  "kernelspec": {
   "display_name": "Python 3",
   "language": "python",
   "name": "python3"
  },
  "language_info": {
   "codemirror_mode": {
    "name": "ipython",
    "version": 2
   },
   "file_extension": ".py",
   "mimetype": "text/x-python",
   "name": "python",
   "nbconvert_exporter": "python",
   "pygments_lexer": "ipython2",
   "version": "2.7.6"
  }
 },
 "nbformat": 4,
 "nbformat_minor": 0
}

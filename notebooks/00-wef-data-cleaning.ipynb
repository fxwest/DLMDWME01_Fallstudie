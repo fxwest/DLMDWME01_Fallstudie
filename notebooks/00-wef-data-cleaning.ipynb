{
 "cells": [
  {
   "cell_type": "markdown",
   "source": [
    "# DATA CLEANING NOTEBOOK\n",
    "Felix A. Westphal\n",
    "DLMDWME01\n",
    "\n",
    "### Import"
   ],
   "metadata": {
    "collapsed": false
   }
  },
  {
   "cell_type": "code",
   "execution_count": 30,
   "outputs": [],
   "source": [
    "import pandas as pd\n",
    "from datetime import datetime"
   ],
   "metadata": {
    "collapsed": false,
    "ExecuteTime": {
     "start_time": "2023-04-29T10:36:32.098820Z",
     "end_time": "2023-04-29T10:36:32.166612Z"
    }
   }
  },
  {
   "cell_type": "markdown",
   "source": [
    "### Parameter"
   ],
   "metadata": {
    "collapsed": false
   }
  },
  {
   "cell_type": "code",
   "execution_count": 31,
   "outputs": [],
   "source": [
    "FILE_PATH_RAW_DATA = r\"../data/raw/PSP_Jan_Feb_2019.xlsx\"\n",
    "FILE_PATH_CLEANED_DATA = r\"../data/processed/Cleaned_Input_Data.csv\"\n",
    "TIMESTAMP_FORMAT = \"%Y-%m-%d %H:%M:%S\""
   ],
   "metadata": {
    "collapsed": false,
    "ExecuteTime": {
     "start_time": "2023-04-29T10:36:32.125505Z",
     "end_time": "2023-04-29T10:36:32.167612Z"
    }
   }
  },
  {
   "cell_type": "markdown",
   "source": [
    "### Value Types and Ranges"
   ],
   "metadata": {
    "collapsed": false
   }
  },
  {
   "cell_type": "code",
   "execution_count": 32,
   "outputs": [],
   "source": [
    "COLUMN_HEADERS = [\"tmsp\", \"country\", \"amount\", \"success\", \"PSP\", \"3D_secured\", \"card\"]\n",
    "VALUE_RANGE_TMSP = [datetime.strptime(\"2010-01-01 00:00:00\", TIMESTAMP_FORMAT), datetime.now()]\n",
    "VALUE_RANGE_AMOUNT = [0.0, None]\n",
    "VALUE_RANGE_PSP = [\"Moneycard\", \"Goldcard\", \"UK_Card\", \"Simplecard\"]\n",
    "VALUE_RANGE_CARD = [\"Master\", \"Visa\", \"Diners\"]\n",
    "DEFINED_TYPES = [\"datetime64[ns]\", \"string\", \"float32\", bool, \"string\", bool, \"string\"]\n",
    "VALUE_RANGES = [VALUE_RANGE_TMSP, None, VALUE_RANGE_AMOUNT, None, VALUE_RANGE_PSP, None, VALUE_RANGE_CARD]\n",
    "value_range_dict = {k : {\"type\" : v1, \"range\" : v2} for k, v1, v2 in zip(COLUMN_HEADERS, DEFINED_TYPES, VALUE_RANGES)}"
   ],
   "metadata": {
    "collapsed": false,
    "ExecuteTime": {
     "start_time": "2023-04-29T10:36:32.142266Z",
     "end_time": "2023-04-29T10:36:32.169572Z"
    }
   }
  },
  {
   "cell_type": "markdown",
   "source": [
    "### Load Raw Data and remove NAN values"
   ],
   "metadata": {
    "collapsed": false
   }
  },
  {
   "cell_type": "code",
   "execution_count": 33,
   "outputs": [
    {
     "name": "stdout",
     "output_type": "stream",
     "text": [
      "Raw Data loaded from Excel: \n",
      "                     tmsp      country  amount  success         PSP  \\\n",
      "0     2019-01-01 00:01:11      Germany      89        0     UK_Card   \n",
      "1     2019-01-01 00:01:17      Germany      89        1     UK_Card   \n",
      "2     2019-01-01 00:02:49      Germany     238        0     UK_Card   \n",
      "3     2019-01-01 00:03:13      Germany     238        1     UK_Card   \n",
      "4     2019-01-01 00:04:33      Austria     124        0  Simplecard   \n",
      "...                   ...          ...     ...      ...         ...   \n",
      "50405 2019-02-28 23:45:39  Switzerland     415        0     UK_Card   \n",
      "50406 2019-02-28 23:46:48      Austria      91        0     UK_Card   \n",
      "50407 2019-02-28 23:47:04      Austria      91        0     UK_Card   \n",
      "50408 2019-02-28 23:47:36      Austria      91        0     UK_Card   \n",
      "50409 2019-02-28 23:48:19      Austria      91        1   Moneycard   \n",
      "\n",
      "       3D_secured    card  \n",
      "0               0    Visa  \n",
      "1               0    Visa  \n",
      "2               1  Diners  \n",
      "3               1  Diners  \n",
      "4               0  Diners  \n",
      "...           ...     ...  \n",
      "50405           0    Visa  \n",
      "50406           0  Master  \n",
      "50407           0  Master  \n",
      "50408           0  Master  \n",
      "50409           0  Master  \n",
      "\n",
      "[50410 rows x 7 columns]\n",
      "Number of NAN values per column: \n",
      "tmsp          0\n",
      "country       0\n",
      "amount        0\n",
      "success       0\n",
      "PSP           0\n",
      "3D_secured    0\n",
      "card          0\n",
      "dtype: int64\n",
      "Total number of NAN values: 0\n"
     ]
    }
   ],
   "source": [
    "raw_data = pd.read_excel(FILE_PATH_RAW_DATA, index_col=0)       # Load raw data file\n",
    "print(f\"Raw Data loaded from Excel: \\n{raw_data}\")\n",
    "sum_nan_column = raw_data.isna().sum()                          # Check for nan values\n",
    "print(f\"Number of NAN values per column: \\n{sum_nan_column}\")\n",
    "total_sum_nan = sum_nan_column.sum()\n",
    "print(f\"Total number of NAN values: {total_sum_nan}\")\n",
    "if total_sum_nan > 0:\n",
    "    filtered_df = raw_data.dropna()\n",
    "    print(f\"Filtered Data Frame: \\n{filtered_df}\")\n",
    "else:\n",
    "    filtered_df = raw_data"
   ],
   "metadata": {
    "collapsed": false,
    "ExecuteTime": {
     "start_time": "2023-04-29T10:36:32.173663Z",
     "end_time": "2023-04-29T10:36:38.872515Z"
    }
   }
  },
  {
   "cell_type": "markdown",
   "source": [
    "### Check valid Value Range"
   ],
   "metadata": {
    "collapsed": false
   }
  },
  {
   "cell_type": "code",
   "execution_count": 34,
   "outputs": [
    {
     "name": "stdout",
     "output_type": "stream",
     "text": [
      "\n",
      "========== CHECKING VALUE RANGES AND TYPES ==========\n",
      "--- Current Column: tmsp ---\n",
      "Current Type / Defined Type: datetime64[ns] / datetime64[ns]\n",
      "Min Value / Defined min Value: 2019-01-01 00:01:11 / 2010-01-01 00:00:00\n",
      "Max Value / Defined max Value: 2019-02-28 23:48:19 / 2023-04-29 10:36:32.139800\n",
      "--- Current Column: country ---\n",
      "Current Type / Defined Type: object / string\n",
      "Changed type to string\n",
      "--- Current Column: amount ---\n",
      "Current Type / Defined Type: int64 / float32\n",
      "Changed type to float32\n",
      "--- Current Column: success ---\n",
      "Current Type / Defined Type: int64 / <class 'bool'>\n",
      "Changed type to bool\n",
      "--- Current Column: PSP ---\n",
      "Current Type / Defined Type: object / string\n",
      "Changed type to string\n",
      "--- Current Column: 3D_secured ---\n",
      "Current Type / Defined Type: int64 / <class 'bool'>\n",
      "Changed type to bool\n",
      "--- Current Column: card ---\n",
      "Current Type / Defined Type: object / string\n",
      "Changed type to string\n",
      "\n",
      "--- Deleted 0 rows from Filtered Data Frame. ---\n",
      "\n",
      "========== CLEANED DATA FRAME ========== \n",
      "                     tmsp      country  amount  success         PSP  \\\n",
      "0     2019-01-01 00:01:11      Germany    89.0    False     UK_Card   \n",
      "1     2019-01-01 00:01:17      Germany    89.0     True     UK_Card   \n",
      "2     2019-01-01 00:02:49      Germany   238.0    False     UK_Card   \n",
      "3     2019-01-01 00:03:13      Germany   238.0     True     UK_Card   \n",
      "4     2019-01-01 00:04:33      Austria   124.0    False  Simplecard   \n",
      "...                   ...          ...     ...      ...         ...   \n",
      "50405 2019-02-28 23:45:39  Switzerland   415.0    False     UK_Card   \n",
      "50406 2019-02-28 23:46:48      Austria    91.0    False     UK_Card   \n",
      "50407 2019-02-28 23:47:04      Austria    91.0    False     UK_Card   \n",
      "50408 2019-02-28 23:47:36      Austria    91.0    False     UK_Card   \n",
      "50409 2019-02-28 23:48:19      Austria    91.0     True   Moneycard   \n",
      "\n",
      "       3D_secured    card  \n",
      "0           False    Visa  \n",
      "1           False    Visa  \n",
      "2            True  Diners  \n",
      "3            True  Diners  \n",
      "4           False  Diners  \n",
      "...           ...     ...  \n",
      "50405       False    Visa  \n",
      "50406       False  Master  \n",
      "50407       False  Master  \n",
      "50408       False  Master  \n",
      "50409       False  Master  \n",
      "\n",
      "[50410 rows x 7 columns]\n",
      "Saved Cleaned Data Frame as .csv to: ../data/processed/Cleaned_Input_Data.csv\n"
     ]
    }
   ],
   "source": [
    "print(f\"\\n========== CHECKING VALUE RANGES AND TYPES ==========\")\n",
    "# --- Loop through coloumns and check whether datatype is as defined, change if not.\n",
    "num_rows_filtered = len(filtered_df.index)\n",
    "for column_header in COLUMN_HEADERS:\n",
    "    print(f\"--- Current Column: {column_header} ---\")\n",
    "    column = filtered_df[column_header]\n",
    "    defined_type = value_range_dict[column_header][\"type\"]\n",
    "    current_type = column.dtype\n",
    "    print(f\"Current Type / Defined Type: {current_type} / {defined_type}\")\n",
    "    if current_type != defined_type:\n",
    "        if defined_type == datetime:\n",
    "            column = pd.to_datetime(column, errors=\"coerce\", format=TIMESTAMP_FORMAT)\n",
    "        elif defined_type == float:\n",
    "            column = pd.to_numeric(column, errors=\"coerce\", downcast=defined_type)\n",
    "        else:\n",
    "            column = column.astype(defined_type)\n",
    "        current_type = column.dtype\n",
    "        print(f\"Changed type to {current_type}\")\n",
    "    filtered_df[column_header] = column\n",
    "\n",
    "    # --- Check whether values are within defined value range.\n",
    "    defined_value_range = value_range_dict[column_header][\"range\"]\n",
    "    if defined_value_range:\n",
    "        if len(defined_value_range) == 2:\n",
    "            min_value_defined = defined_value_range[0]\n",
    "            max_value_defined = defined_value_range[1]\n",
    "            if min_value_defined:\n",
    "                min_value = min(column)\n",
    "                print(f\"Min Value / Defined min Value: {min_value} / {min_value_defined}\")\n",
    "                if min_value < min_value_defined:\n",
    "                    print(f\"Found entry with smaller value than defined. Removing entry!\")\n",
    "                    filtered_df = filtered_df[filtered_df[column_header] >= min_value_defined]\n",
    "            if max_value_defined:\n",
    "                max_value = max(column)\n",
    "                print(f\"Max Value / Defined max Value: {max_value} / {max_value_defined}\")\n",
    "                if max_value > max_value_defined:\n",
    "                    print(f\"Found entry with larger value than defined. Removing entry!\")\n",
    "                    filtered_df = filtered_df[filtered_df[column_header] <= max_value_defined]\n",
    "        else:\n",
    "            unique_values = list(pd.unique(filtered_df[column_header]))\n",
    "            not_defined_values = [value for value in unique_values if value not in defined_value_range]\n",
    "            if len(not_defined_values) > 0:\n",
    "                filtered_df = filtered_df[~filtered_df[column_header].isin(not_defined_values)]             # Remove all columns which are outside the defined range\n",
    "\n",
    "cleaned_df = filtered_df.dropna()\n",
    "num_rows_cleaned = len(cleaned_df.index)\n",
    "num_rows_deleted = num_rows_filtered - num_rows_cleaned\n",
    "print(f\"\\n--- Deleted {num_rows_deleted} rows from Filtered Data Frame. ---\")\n",
    "print(f\"\\n========== CLEANED DATA FRAME ========== \\n{filtered_df}\")\n",
    "cleaned_df.to_csv(FILE_PATH_CLEANED_DATA, index=False)\n",
    "print(f\"Saved Cleaned Data Frame as .csv to: {FILE_PATH_CLEANED_DATA}\")"
   ],
   "metadata": {
    "collapsed": false,
    "ExecuteTime": {
     "start_time": "2023-04-29T10:36:38.887336Z",
     "end_time": "2023-04-29T10:36:39.384847Z"
    }
   }
  }
 ],
 "metadata": {
  "kernelspec": {
   "display_name": "Python 3",
   "language": "python",
   "name": "python3"
  },
  "language_info": {
   "codemirror_mode": {
    "name": "ipython",
    "version": 2
   },
   "file_extension": ".py",
   "mimetype": "text/x-python",
   "name": "python",
   "nbconvert_exporter": "python",
   "pygments_lexer": "ipython2",
   "version": "2.7.6"
  }
 },
 "nbformat": 4,
 "nbformat_minor": 0
}

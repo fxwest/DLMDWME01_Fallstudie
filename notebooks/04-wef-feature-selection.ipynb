{
 "cells": [
  {
   "cell_type": "markdown",
   "source": [
    "# FEATURE SELECTION NOTEBOOK\n",
    "Felix A. Westphal\n",
    "DLMDWME01\n",
    "\n",
    "### Import"
   ],
   "metadata": {
    "collapsed": false
   }
  },
  {
   "cell_type": "code",
   "execution_count": 157,
   "outputs": [],
   "source": [
    "import numpy as np\n",
    "import pandas as pd\n",
    "import matplotlib.pyplot as plt\n",
    "from sklearn.feature_selection import SelectKBest\n",
    "from sklearn.feature_selection import chi2\n",
    "from sklearn.ensemble import ExtraTreesClassifier"
   ],
   "metadata": {
    "collapsed": false,
    "ExecuteTime": {
     "start_time": "2023-05-20T12:06:56.178581Z",
     "end_time": "2023-05-20T12:06:56.252579Z"
    }
   }
  },
  {
   "cell_type": "markdown",
   "source": [
    "### Parameter"
   ],
   "metadata": {
    "collapsed": false
   }
  },
  {
   "cell_type": "code",
   "execution_count": 158,
   "outputs": [],
   "source": [
    "FILE_PATH_NORMALIZED_DATA = r\"../data/processed/Normalized_Input_Data.csv\"\n",
    "FILE_PATH_BALANCED_DATA = r\"../data/processed/Balanced_Input_Data.csv\"\n",
    "NUM_TARGET_FEATURES = 10"
   ],
   "metadata": {
    "collapsed": false,
    "ExecuteTime": {
     "start_time": "2023-05-20T12:06:56.199579Z",
     "end_time": "2023-05-20T12:06:56.254579Z"
    }
   }
  },
  {
   "cell_type": "markdown",
   "source": [
    "### Load Data"
   ],
   "metadata": {
    "collapsed": false
   }
  },
  {
   "cell_type": "code",
   "execution_count": 159,
   "outputs": [
    {
     "name": "stdout",
     "output_type": "stream",
     "text": [
      "Data loaded from Excel: \n",
      "                 tmsp    amount  success  3D_secured  Austria  Germany  \\\n",
      "0 2019-01-10 16:51:21  0.402244    False       False    False     True   \n",
      "1 2019-01-15 22:32:40  0.081731     True       False    False    False   \n",
      "2 2019-01-12 02:47:39  0.323718    False       False    False    False   \n",
      "3 2019-01-06 06:55:16  0.290064     True       False     True    False   \n",
      "4 2019-01-13 10:48:29  0.238782    False       False    False     True   \n",
      "\n",
      "   Switzerland  Goldcard  Moneycard  Simplecard  UK_Card  Diners  Master  \\\n",
      "0        False     False      False       False     True   False    True   \n",
      "1         True     False      False        True    False   False   False   \n",
      "2         True     False      False        True    False   False   False   \n",
      "3        False     False      False       False     True    True   False   \n",
      "4        False     False      False        True    False   False    True   \n",
      "\n",
      "    Visa  num_tries  order_id      hour  is_weekend  \n",
      "0  False          2      6967  0.402244       False  \n",
      "1   True          1     10205  0.081731       False  \n",
      "2   True          2      7914  0.323718        True  \n",
      "3  False          2      3978  0.290064        True  \n",
      "4  False          1      8635  0.238782        True  \n"
     ]
    }
   ],
   "source": [
    "input_data = pd.read_csv(FILE_PATH_BALANCED_DATA, parse_dates=[0])                        # Load input data file\n",
    "print(f\"Data loaded from Excel: \\n{input_data.head()}\")"
   ],
   "metadata": {
    "collapsed": false,
    "ExecuteTime": {
     "start_time": "2023-05-20T12:06:56.216584Z",
     "end_time": "2023-05-20T12:06:56.324583Z"
    }
   }
  },
  {
   "cell_type": "markdown",
   "source": [
    "### Univariate Selection"
   ],
   "metadata": {
    "collapsed": false
   }
  },
  {
   "cell_type": "code",
   "execution_count": 160,
   "outputs": [
    {
     "name": "stdout",
     "output_type": "stream",
     "text": [
      "         Specs       Score\n",
      "5     Goldcard  325.031232\n",
      "7   Simplecard   76.814632\n",
      "1   3D_secured   68.322415\n",
      "9       Diners   13.101407\n",
      "8      UK_Card   12.240400\n",
      "0       amount   11.052573\n",
      "13        hour   11.052573\n",
      "14  is_weekend    9.725345\n",
      "6    Moneycard    7.026745\n",
      "10      Master    5.891399\n"
     ]
    }
   ],
   "source": [
    "model_data = input_data.drop('tmsp', axis=1)                                                         # Remove timestamp column for training\n",
    "model_data = model_data[model_data['num_tries'] == 1]\n",
    "model_data = model_data.drop('order_id', axis=1)\n",
    "\n",
    "X = model_data.drop('success', axis=1)                                                                  # Features\n",
    "y = model_data['success']                                                                               # Target Variable\n",
    "\n",
    "# --- Select k best features\n",
    "bestfeatures = SelectKBest(score_func=chi2, k=NUM_TARGET_FEATURES)\n",
    "fit = bestfeatures.fit(X,y)\n",
    "dfscores = pd.DataFrame(fit.scores_)\n",
    "dfcolumns = pd.DataFrame(X.columns)\n",
    "featureScores = pd.concat([dfcolumns,dfscores],axis=1)\n",
    "featureScores.columns = ['Specs','Score']\n",
    "print(featureScores.nlargest(NUM_TARGET_FEATURES,'Score'))"
   ],
   "metadata": {
    "collapsed": false,
    "ExecuteTime": {
     "start_time": "2023-05-20T12:06:56.330584Z",
     "end_time": "2023-05-20T12:06:56.373581Z"
    }
   }
  },
  {
   "cell_type": "markdown",
   "source": [
    "### Feature Importance"
   ],
   "metadata": {
    "collapsed": false
   }
  },
  {
   "cell_type": "code",
   "execution_count": 161,
   "outputs": [
    {
     "name": "stdout",
     "output_type": "stream",
     "text": [
      "[0.42779014 0.02503927 0.00522998 0.0058207  0.0055741  0.02543108\n",
      " 0.00891362 0.01180229 0.01093181 0.00718907 0.01075678 0.01009486\n",
      " 0.         0.42620139 0.01922488]\n"
     ]
    },
    {
     "data": {
      "text/plain": "<Figure size 640x480 with 1 Axes>",
      "image/png": "[encoded data removed]"
     },
     "metadata": {},
     "output_type": "display_data"
    }
   ],
   "source": [
    "model = ExtraTreesClassifier()\n",
    "model.fit(X,y)\n",
    "print(model.feature_importances_)\n",
    "feat_importances = pd.Series(model.feature_importances_, index=X.columns)\n",
    "feat_importances.nlargest(NUM_TARGET_FEATURES).plot(kind='barh')\n",
    "plt.show()"
   ],
   "metadata": {
    "collapsed": false,
    "ExecuteTime": {
     "start_time": "2023-05-20T12:06:56.376582Z",
     "end_time": "2023-05-20T12:06:57.789280Z"
    }
   }
  }
 ],
 "metadata": {
  "kernelspec": {
   "display_name": "Python 3",
   "language": "python",
   "name": "python3"
  },
  "language_info": {
   "codemirror_mode": {
    "name": "ipython",
    "version": 2
   },
   "file_extension": ".py",
   "mimetype": "text/x-python",
   "name": "python",
   "nbconvert_exporter": "python",
   "pygments_lexer": "ipython2",
   "version": "2.7.6"
  }
 },
 "nbformat": 4,
 "nbformat_minor": 0
}

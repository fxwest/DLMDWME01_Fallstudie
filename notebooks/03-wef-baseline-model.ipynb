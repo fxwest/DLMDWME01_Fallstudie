{
 "cells": [
  {
   "cell_type": "markdown",
   "source": [
    "# BASELINE MODEL NOTEBOOK\n",
    "Felix A. Westphal\n",
    "DLMDWME01\n",
    "\n",
    "### Import"
   ],
   "metadata": {
    "collapsed": false
   }
  },
  {
   "cell_type": "code",
   "execution_count": 279,
   "metadata": {
    "collapsed": true,
    "ExecuteTime": {
     "start_time": "2023-05-19T21:13:13.681811Z",
     "end_time": "2023-05-19T21:13:13.813429Z"
    }
   },
   "outputs": [],
   "source": [
    "import pandas as pd\n",
    "from sklearn.svm import SVC\n",
    "from xgboost import XGBClassifier\n",
    "from sklearn.naive_bayes import GaussianNB\n",
    "from sklearn.metrics import accuracy_score\n",
    "from sklearn.tree import DecisionTreeClassifier\n",
    "from sklearn.neighbors import KNeighborsClassifier\n",
    "from sklearn.ensemble import RandomForestClassifier\n",
    "from sklearn.linear_model import LogisticRegression\n",
    "from sklearn.model_selection import train_test_split"
   ]
  },
  {
   "cell_type": "markdown",
   "source": [
    "### Parameter"
   ],
   "metadata": {
    "collapsed": false
   }
  },
  {
   "cell_type": "code",
   "execution_count": 280,
   "outputs": [],
   "source": [
    "FILE_PATH_BALANCED_DATA = r\"../data/processed/Balanced_Input_Data.csv\"\n",
    "FILE_PATH_NORMALIZED_DATA = r\"../data/processed/Normalized_Input_Data.csv\""
   ],
   "metadata": {
    "collapsed": false,
    "ExecuteTime": {
     "start_time": "2023-05-19T21:13:13.701613Z",
     "end_time": "2023-05-19T21:13:13.815452Z"
    }
   }
  },
  {
   "cell_type": "markdown",
   "source": [
    "### Load Data"
   ],
   "metadata": {
    "collapsed": false
   }
  },
  {
   "cell_type": "code",
   "execution_count": 281,
   "outputs": [
    {
     "name": "stdout",
     "output_type": "stream",
     "text": [
      "Data loaded from Excel: \n",
      "                 tmsp    amount  success  3D_secured  Austria  Germany  \\\n",
      "0 2019-01-01 00:01:11  0.133013    False       False    False     True   \n",
      "1 2019-01-01 00:01:17  0.133013     True       False    False     True   \n",
      "2 2019-01-01 00:02:49  0.371795    False        True    False     True   \n",
      "3 2019-01-01 00:03:13  0.371795     True        True    False     True   \n",
      "4 2019-01-01 00:04:33  0.189103    False       False     True    False   \n",
      "\n",
      "   Switzerland  Goldcard  Moneycard  Simplecard  UK_Card  Diners  Master  \\\n",
      "0        False     False      False       False     True   False   False   \n",
      "1        False     False      False       False     True   False   False   \n",
      "2        False     False      False       False     True    True   False   \n",
      "3        False     False      False       False     True    True   False   \n",
      "4        False     False      False        True    False    True   False   \n",
      "\n",
      "    Visa  num_tries  order_id  \n",
      "0   True          1         1  \n",
      "1   True          2         1  \n",
      "2  False          1         2  \n",
      "3  False          1         3  \n",
      "4  False          1         4  \n"
     ]
    }
   ],
   "source": [
    "input_data = pd.read_csv(FILE_PATH_NORMALIZED_DATA, parse_dates=[0])                        # Load input data file\n",
    "print(f\"Data loaded from Excel: \\n{input_data.head()}\")"
   ],
   "metadata": {
    "collapsed": false,
    "ExecuteTime": {
     "start_time": "2023-05-19T21:13:13.717615Z",
     "end_time": "2023-05-19T21:13:13.835351Z"
    }
   }
  },
  {
   "cell_type": "markdown",
   "source": [
    "### Train and Test Dataset"
   ],
   "metadata": {
    "collapsed": false
   }
  },
  {
   "cell_type": "code",
   "execution_count": 282,
   "outputs": [
    {
     "name": "stdout",
     "output_type": "stream",
     "text": [
      "     amount  success  3D_secured  Germany  Switzerland  Moneycard  Simplecard  \\\n",
      "0  0.133013    False       False     True        False      False       False   \n",
      "1  0.133013     True       False     True        False      False       False   \n",
      "2  0.371795    False        True     True        False      False       False   \n",
      "3  0.371795     True        True     True        False      False       False   \n",
      "4  0.189103    False       False    False        False      False        True   \n",
      "\n",
      "   UK_Card  Master   Visa  num_tries  \n",
      "0     True   False   True          1  \n",
      "1     True   False   True          2  \n",
      "2     True   False  False          1  \n",
      "3     True   False  False          1  \n",
      "4    False   False  False          1  \n"
     ]
    }
   ],
   "source": [
    "model_data = input_data.drop('tmsp', axis=1)                                                         # Remove timestamp column for training\n",
    "model_data = model_data.drop('order_id', axis=1)\n",
    "model_data = model_data.drop('Austria', axis=1)\n",
    "model_data = model_data.drop('Goldcard', axis=1)\n",
    "model_data = model_data.drop('Diners', axis=1)\n",
    "X = model_data.drop('success', axis=1)                                                                  # Features\n",
    "y = model_data['success']                                                                               # Target Variable\n",
    "X_train, X_test, y_train, y_test = train_test_split(X, y, test_size=0.2, random_state=42, shuffle=True)\n",
    "#training,test = train_test_split(model_data, train_size = 0.7, test_size = 0.3, shuffle=True)          # Performance Verschlechterung: 79% (Train and Testset Settings)\n",
    "#training, valid = train_test_split(training, train_size = 0.7, test_size =0.3, shuffle=True)\n",
    "\n",
    "print(model_data.head())"
   ],
   "metadata": {
    "collapsed": false,
    "ExecuteTime": {
     "start_time": "2023-05-19T21:13:13.833350Z",
     "end_time": "2023-05-19T21:13:13.908353Z"
    }
   }
  },
  {
   "cell_type": "markdown",
   "source": [
    "### Baseline Model - Logistic Regression"
   ],
   "metadata": {
    "collapsed": false
   }
  },
  {
   "cell_type": "code",
   "execution_count": 283,
   "outputs": [
    {
     "name": "stdout",
     "output_type": "stream",
     "text": [
      "[0.17213764 0.14943815 0.16212992 ... 0.1521076  0.40138925 0.21588472]\n"
     ]
    }
   ],
   "source": [
    "logReg_model = LogisticRegression(max_iter=200, random_state=0, solver='lbfgs', multi_class='multinomial')                     # Create a Logistic Regression model\n",
    "logReg_model.fit(X_train, y_train)\n",
    "\n",
    "y_pred_logReg = logReg_model.predict(X_test)            # Make predictions on the test set\n",
    "proba_pred_logReg = logReg_model.predict_proba(X_test)  # Predict probabilities for the test data\n",
    "\n",
    "# --- Extract the probabilities for the positive class (success)\n",
    "success_prob_logReg = proba_pred_logReg[:, 1]\n",
    "print(success_prob_logReg)"
   ],
   "metadata": {
    "collapsed": false,
    "ExecuteTime": {
     "start_time": "2023-05-19T21:13:13.861351Z",
     "end_time": "2023-05-19T21:13:14.112350Z"
    }
   }
  },
  {
   "cell_type": "markdown",
   "source": [
    "### Baseline Model - Decision Tree"
   ],
   "metadata": {
    "collapsed": false
   }
  },
  {
   "cell_type": "code",
   "execution_count": 284,
   "outputs": [],
   "source": [
    "decTree_model = DecisionTreeClassifier()            # Create a Decision Tree classifier\n",
    "decTree_model.fit(X_train, y_train)\n",
    "y_pred_decTree = decTree_model.predict(X_test)      # Make predictions on the test set"
   ],
   "metadata": {
    "collapsed": false,
    "ExecuteTime": {
     "start_time": "2023-05-19T21:13:14.113352Z",
     "end_time": "2023-05-19T21:13:14.221868Z"
    }
   }
  },
  {
   "cell_type": "markdown",
   "source": [
    "### Baseline Model - Random Forest"
   ],
   "metadata": {
    "collapsed": false
   }
  },
  {
   "cell_type": "code",
   "execution_count": 285,
   "outputs": [],
   "source": [
    "ranForest_model = RandomForestClassifier()          # Create a Random Forest classifier\n",
    "ranForest_model.fit(X_train, y_train)\n",
    "y_pred_ranForest = ranForest_model.predict(X_test)  # Make predictions on the test set"
   ],
   "metadata": {
    "collapsed": false,
    "ExecuteTime": {
     "start_time": "2023-05-19T21:13:14.224869Z",
     "end_time": "2023-05-19T21:13:17.324930Z"
    }
   }
  },
  {
   "cell_type": "markdown",
   "source": [
    "### Baseline Model - XGBoost"
   ],
   "metadata": {
    "collapsed": false
   }
  },
  {
   "cell_type": "code",
   "execution_count": 286,
   "outputs": [],
   "source": [
    "xgBoost_model = XGBClassifier()\n",
    "xgBoost_model.fit(X_train, y_train)\n",
    "y_pred_xgBoost = xgBoost_model.predict(X_test)"
   ],
   "metadata": {
    "collapsed": false,
    "ExecuteTime": {
     "start_time": "2023-05-19T21:13:17.327931Z",
     "end_time": "2023-05-19T21:13:18.339718Z"
    }
   }
  },
  {
   "cell_type": "markdown",
   "source": [
    "### Baseline Model - Naive Bayes"
   ],
   "metadata": {
    "collapsed": false
   }
  },
  {
   "cell_type": "code",
   "execution_count": 287,
   "outputs": [],
   "source": [
    "nBay_model = GaussianNB()\n",
    "nBay_model.fit(X_train, y_train)\n",
    "y_pred_nBay = nBay_model.predict(X_test)"
   ],
   "metadata": {
    "collapsed": false,
    "ExecuteTime": {
     "start_time": "2023-05-19T21:13:18.340719Z",
     "end_time": "2023-05-19T21:13:18.420249Z"
    }
   }
  },
  {
   "cell_type": "markdown",
   "source": [
    "### Baseline Model - SVC"
   ],
   "metadata": {
    "collapsed": false
   }
  },
  {
   "cell_type": "code",
   "execution_count": 288,
   "outputs": [],
   "source": [
    "svc_model = SVC(kernel='rbf', C=1, gamma='auto')\n",
    "svc_model.fit(X_train, y_train)\n",
    "y_pred_svc = svc_model.predict(X_test)"
   ],
   "metadata": {
    "collapsed": false,
    "ExecuteTime": {
     "start_time": "2023-05-19T21:13:18.426248Z",
     "end_time": "2023-05-19T21:13:57.110686Z"
    }
   }
  },
  {
   "cell_type": "markdown",
   "source": [
    "### Baseline Model - kNeighbors Classifier"
   ],
   "metadata": {
    "collapsed": false
   }
  },
  {
   "cell_type": "code",
   "execution_count": 289,
   "outputs": [],
   "source": [
    "knn_model = KNeighborsClassifier(n_neighbors=3)\n",
    "knn_model.fit(X_train, y_train)\n",
    "y_pred_knn = knn_model.predict(X_test)"
   ],
   "metadata": {
    "collapsed": false,
    "ExecuteTime": {
     "start_time": "2023-05-19T21:13:57.113817Z",
     "end_time": "2023-05-19T21:13:58.077012Z"
    }
   }
  },
  {
   "cell_type": "markdown",
   "source": [
    "### Model Evaluation"
   ],
   "metadata": {
    "collapsed": false
   }
  },
  {
   "cell_type": "code",
   "execution_count": 290,
   "outputs": [
    {
     "name": "stdout",
     "output_type": "stream",
     "text": [
      "Logistic Regression Accuracy: 0.8112477682999405\n",
      "Decision Tree Accuracy: 0.7543146201150566\n",
      "Random Forest Accuracy: 0.7481650466177345\n",
      "XGBoost Accuracy: 0.8094624082523308\n",
      "Naive Bayes Accuracy: 0.8094624082523308\n",
      "SVC Accuracy: 0.81362824836342\n",
      "kNeighbors Classifier Accuracy: 0.7568934735171593\n"
     ]
    }
   ],
   "source": [
    "# --- Calculate the accuracy of the Logistic Regression model\n",
    "accuracy_logReg = accuracy_score(y_test, y_pred_logReg)\n",
    "print(\"Logistic Regression Accuracy:\", accuracy_logReg)\n",
    "# 81%\n",
    "# 81% (Entfernung collreationsspalten wg. OneHot & max_iter definiert)\n",
    "# 57% (Balancing)\n",
    "# 57% (Balancing and Normalized)\n",
    "# 81% (No Balancing and Normalized)\n",
    "\n",
    "# --- Calculate the accuracy of the Decision Tree model\n",
    "accuracy_decTree = accuracy_score(y_test, y_pred_decTree)\n",
    "print(\"Decision Tree Accuracy:\", accuracy_decTree)\n",
    "# 71%\n",
    "# 75% (Entfernung collreationsspalten wg. OneHot)\n",
    "# 57% (Balancing)\n",
    "# 57% (Balancing and Normalized)\n",
    "# 75% (No Balancing and Normalized)\n",
    "\n",
    "# --- Calculate the accuracy of the Random Forest model\n",
    "accuracy_ranForest = accuracy_score(y_test, y_pred_ranForest)\n",
    "print(\"Random Forest Accuracy:\", accuracy_ranForest)\n",
    "# 77%\n",
    "# 75% (Entfernung collreationsspalten wg. OneHot)\n",
    "# 57% (Balancing)\n",
    "# 57% (Balancing and Normalized)\n",
    "# 75% (No Balancing and Normalized)\n",
    "\n",
    "# --- Calculate the accuracy of the XGBoost model\n",
    "accuracy_xgBoost = accuracy_score(y_test, y_pred_xgBoost)\n",
    "print(\"XGBoost Accuracy:\", accuracy_xgBoost)\n",
    "# 81% (No Balancing and Normalized)\n",
    "\n",
    "# --- Calculate the accuracy of the Naive Bayes model\n",
    "accuracy_nBay = accuracy_score(y_test, y_pred_nBay)\n",
    "print(\"Naive Bayes Accuracy:\", accuracy_nBay)\n",
    "# 81% (No Balancing and Normalized)\n",
    "\n",
    "# --- Calculate the accuracy of the SVC model\n",
    "accuracy_svc = accuracy_score(y_test, y_pred_svc)\n",
    "print(\"SVC Accuracy:\", accuracy_svc)\n",
    "# 81% (No Balancing and Normalized)\n",
    "\n",
    "# --- Calculate the accuracy of the kNeighbors Classifier model\n",
    "accuracy_knn = accuracy_score(y_test, y_pred_knn)\n",
    "print(\"kNeighbors Classifier Accuracy:\", accuracy_knn)\n",
    "# 76% (No Balancing and Normalized)"
   ],
   "metadata": {
    "collapsed": false,
    "ExecuteTime": {
     "start_time": "2023-05-19T21:13:58.081011Z",
     "end_time": "2023-05-19T21:13:58.091375Z"
    }
   }
  }
 ],
 "metadata": {
  "kernelspec": {
   "display_name": "Python 3",
   "language": "python",
   "name": "python3"
  },
  "language_info": {
   "codemirror_mode": {
    "name": "ipython",
    "version": 2
   },
   "file_extension": ".py",
   "mimetype": "text/x-python",
   "name": "python",
   "nbconvert_exporter": "python",
   "pygments_lexer": "ipython2",
   "version": "2.7.6"
  }
 },
 "nbformat": 4,
 "nbformat_minor": 0
}

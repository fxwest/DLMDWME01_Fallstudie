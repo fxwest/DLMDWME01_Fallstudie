{
 "cells": [
  {
   "cell_type": "markdown",
   "source": [
    "# BASELINE MODEL NOTEBOOK\n",
    "Felix A. Westphal\n",
    "DLMDWME01\n",
    "\n",
    "### Import"
   ],
   "metadata": {
    "collapsed": false
   }
  },
  {
   "cell_type": "code",
   "execution_count": 65,
   "metadata": {
    "collapsed": true,
    "ExecuteTime": {
     "start_time": "2023-05-19T17:55:51.256610Z",
     "end_time": "2023-05-19T17:55:51.295528Z"
    }
   },
   "outputs": [],
   "source": [
    "import pandas as pd\n",
    "from sklearn.model_selection import train_test_split\n",
    "from sklearn.linear_model import LogisticRegression\n",
    "from sklearn.tree import DecisionTreeClassifier\n",
    "from sklearn.ensemble import RandomForestClassifier\n",
    "from sklearn.metrics import accuracy_score"
   ]
  },
  {
   "cell_type": "markdown",
   "source": [
    "### Parameter"
   ],
   "metadata": {
    "collapsed": false
   }
  },
  {
   "cell_type": "code",
   "execution_count": 66,
   "outputs": [],
   "source": [
    "FILE_PATH_EXTENDED_DATA = r\"../data/processed/Extended_Input_Data.csv\""
   ],
   "metadata": {
    "collapsed": false,
    "ExecuteTime": {
     "start_time": "2023-05-19T17:55:51.273760Z",
     "end_time": "2023-05-19T17:55:51.328528Z"
    }
   }
  },
  {
   "cell_type": "markdown",
   "source": [
    "### Load Data"
   ],
   "metadata": {
    "collapsed": false
   }
  },
  {
   "cell_type": "code",
   "execution_count": 67,
   "outputs": [
    {
     "name": "stdout",
     "output_type": "stream",
     "text": [
      "Extended Data loaded from Excel: \n",
      "                 tmsp  amount  success  3D_secured  Austria  Germany  \\\n",
      "0 2019-01-01 00:01:11    89.0    False       False    False     True   \n",
      "1 2019-01-01 00:01:17    89.0     True       False    False     True   \n",
      "2 2019-01-01 00:02:49   238.0    False        True    False     True   \n",
      "3 2019-01-01 00:03:13   238.0     True        True    False     True   \n",
      "4 2019-01-01 00:04:33   124.0    False       False     True    False   \n",
      "\n",
      "   Switzerland  Goldcard  Moneycard  Simplecard  UK_Card  Diners  Master  \\\n",
      "0        False     False      False       False     True   False   False   \n",
      "1        False     False      False       False     True   False   False   \n",
      "2        False     False      False       False     True    True   False   \n",
      "3        False     False      False       False     True    True   False   \n",
      "4        False     False      False        True    False    True   False   \n",
      "\n",
      "    Visa  num_tries  order_id  \n",
      "0   True          1         1  \n",
      "1   True          2         1  \n",
      "2  False          1         2  \n",
      "3  False          1         3  \n",
      "4  False          1         4  \n"
     ]
    }
   ],
   "source": [
    "extended_data = pd.read_csv(FILE_PATH_EXTENDED_DATA, parse_dates=[0])                        # Load input data file\n",
    "print(f\"Extended Data loaded from Excel: \\n{extended_data.head()}\")"
   ],
   "metadata": {
    "collapsed": false,
    "ExecuteTime": {
     "start_time": "2023-05-19T17:55:51.290529Z",
     "end_time": "2023-05-19T17:55:51.397527Z"
    }
   }
  },
  {
   "cell_type": "markdown",
   "source": [
    "### Train and Test Dataset"
   ],
   "metadata": {
    "collapsed": false
   }
  },
  {
   "cell_type": "code",
   "execution_count": 68,
   "outputs": [],
   "source": [
    "model_data = extended_data.drop('tmsp', axis=1)                                                         # Remove timestamp column for training\n",
    "X = model_data.drop('success', axis=1)                                                                  # Features\n",
    "y = model_data['success']                                                                               # Target Variable\n",
    "X_train, X_test, y_train, y_test = train_test_split(X, y, test_size=0.2, random_state=42)"
   ],
   "metadata": {
    "collapsed": false,
    "ExecuteTime": {
     "start_time": "2023-05-19T17:55:51.398527Z",
     "end_time": "2023-05-19T17:55:51.443527Z"
    }
   }
  },
  {
   "cell_type": "markdown",
   "source": [
    "### Baseline Model - Logistic Regression"
   ],
   "metadata": {
    "collapsed": false
   }
  },
  {
   "cell_type": "code",
   "execution_count": 69,
   "outputs": [
    {
     "name": "stdout",
     "output_type": "stream",
     "text": [
      "[0.20364129 0.16173504 0.15127169 ... 0.16972879 0.21199467 0.24752795]\n"
     ]
    }
   ],
   "source": [
    "logReg_model = LogisticRegression()                     # Create a Logistic Regression model\n",
    "logReg_model.fit(X_train, y_train)\n",
    "\n",
    "y_pred_logReg = logReg_model.predict(X_test)            # Make predictions on the test set\n",
    "proba_pred_logReg = logReg_model.predict_proba(X_test)  # Predict probabilities for the test data\n",
    "\n",
    "# --- Extract the probabilities for the positive class (success)\n",
    "success_prob_logReg = proba_pred_logReg[:, 1]\n",
    "print(success_prob_logReg)"
   ],
   "metadata": {
    "collapsed": false,
    "ExecuteTime": {
     "start_time": "2023-05-19T17:55:51.416529Z",
     "end_time": "2023-05-19T17:55:51.557845Z"
    }
   }
  },
  {
   "cell_type": "markdown",
   "source": [
    "### Baseline Model - Decision Tree"
   ],
   "metadata": {
    "collapsed": false
   }
  },
  {
   "cell_type": "code",
   "execution_count": 70,
   "outputs": [],
   "source": [
    "decTree_model = DecisionTreeClassifier()            # Create a Decision Tree classifier\n",
    "decTree_model.fit(X_train, y_train)\n",
    "y_pred_decTree = decTree_model.predict(X_test)      # Make predictions on the test set"
   ],
   "metadata": {
    "collapsed": false,
    "ExecuteTime": {
     "start_time": "2023-05-19T17:55:51.582846Z",
     "end_time": "2023-05-19T17:55:51.730846Z"
    }
   }
  },
  {
   "cell_type": "markdown",
   "source": [
    "### Baseline Model - Random Forest"
   ],
   "metadata": {
    "collapsed": false
   }
  },
  {
   "cell_type": "code",
   "execution_count": 71,
   "outputs": [],
   "source": [
    "ranForest_model = RandomForestClassifier()          # Create a Random Forest classifier\n",
    "ranForest_model.fit(X_train, y_train)\n",
    "y_pred_ranForest = ranForest_model.predict(X_test)  # Make predictions on the test set"
   ],
   "metadata": {
    "collapsed": false,
    "ExecuteTime": {
     "start_time": "2023-05-19T17:55:51.732846Z",
     "end_time": "2023-05-19T17:55:54.479511Z"
    }
   }
  },
  {
   "cell_type": "markdown",
   "source": [
    "### Model Evaluation"
   ],
   "metadata": {
    "collapsed": false
   }
  },
  {
   "cell_type": "code",
   "execution_count": 72,
   "outputs": [
    {
     "name": "stdout",
     "output_type": "stream",
     "text": [
      "Logistic Regression Accuracy: 0.8095615949216425\n",
      "Decision Tree Accuracy: 0.7093830589168816\n",
      "Random Forest Accuracy: 0.7674072604641936\n"
     ]
    }
   ],
   "source": [
    "# --- Calculate the accuracy of the Logistic Regression model\n",
    "accuracy_logReg = accuracy_score(y_test, y_pred_logReg)\n",
    "print(\"Logistic Regression Accuracy:\", accuracy_logReg)\n",
    "\n",
    "# --- Calculate the accuracy of the Decision Tree model\n",
    "accuracy_decTree = accuracy_score(y_test, y_pred_decTree)\n",
    "print(\"Decision Tree Accuracy:\", accuracy_decTree)\n",
    "\n",
    "# --- Calculate the accuracy of the Random Forest model\n",
    "accuracy_ranForest = accuracy_score(y_test, y_pred_ranForest)\n",
    "print(\"Random Forest Accuracy:\", accuracy_ranForest)"
   ],
   "metadata": {
    "collapsed": false,
    "ExecuteTime": {
     "start_time": "2023-05-19T17:55:54.482768Z",
     "end_time": "2023-05-19T17:55:54.494648Z"
    }
   }
  }
 ],
 "metadata": {
  "kernelspec": {
   "display_name": "Python 3",
   "language": "python",
   "name": "python3"
  },
  "language_info": {
   "codemirror_mode": {
    "name": "ipython",
    "version": 2
   },
   "file_extension": ".py",
   "mimetype": "text/x-python",
   "name": "python",
   "nbconvert_exporter": "python",
   "pygments_lexer": "ipython2",
   "version": "2.7.6"
  }
 },
 "nbformat": 4,
 "nbformat_minor": 0
}

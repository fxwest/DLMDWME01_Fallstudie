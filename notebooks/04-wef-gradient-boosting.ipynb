{
 "cells": [
  {
   "cell_type": "markdown",
   "source": [
    "# GRADIENT BOOSTING MODEL NOTEBOOK\n",
    "Felix A. Westphal\n",
    "DLMDWME01\n",
    "\n",
    "### Import"
   ],
   "metadata": {
    "collapsed": false
   }
  },
  {
   "cell_type": "code",
   "execution_count": 105,
   "outputs": [],
   "source": [
    "import numpy as np\n",
    "import pandas as pd\n",
    "from sklearn.model_selection import cross_val_score\n",
    "from sklearn.model_selection import train_test_split\n",
    "from sklearn.ensemble import GradientBoostingClassifier\n",
    "from sklearn.metrics import confusion_matrix, classification_report, accuracy_score, recall_score"
   ],
   "metadata": {
    "collapsed": false,
    "ExecuteTime": {
     "start_time": "2023-05-19T21:22:23.503900Z",
     "end_time": "2023-05-19T21:22:23.537904Z"
    }
   }
  },
  {
   "cell_type": "markdown",
   "source": [
    "### Parameter"
   ],
   "metadata": {
    "collapsed": false
   }
  },
  {
   "cell_type": "code",
   "execution_count": 106,
   "outputs": [],
   "source": [
    "FILE_PATH_BALANCED_DATA = r\"../data/processed/Balanced_Input_Data.csv\"\n",
    "FILE_PATH_NORMALIZED_DATA = r\"../data/processed/Normalized_Input_Data.csv\""
   ],
   "metadata": {
    "collapsed": false,
    "ExecuteTime": {
     "start_time": "2023-05-19T21:22:23.520316Z",
     "end_time": "2023-05-19T21:22:23.570014Z"
    }
   }
  },
  {
   "cell_type": "markdown",
   "source": [
    "### Load Data"
   ],
   "metadata": {
    "collapsed": false
   }
  },
  {
   "cell_type": "code",
   "execution_count": 107,
   "outputs": [
    {
     "name": "stdout",
     "output_type": "stream",
     "text": [
      "Data loaded from Excel: \n",
      "                 tmsp    amount  success  3D_secured  Austria  Germany  \\\n",
      "0 2019-01-01 00:01:11  0.133013    False       False    False     True   \n",
      "1 2019-01-01 00:01:17  0.133013     True       False    False     True   \n",
      "2 2019-01-01 00:02:49  0.371795    False        True    False     True   \n",
      "3 2019-01-01 00:03:13  0.371795     True        True    False     True   \n",
      "4 2019-01-01 00:04:33  0.189103    False       False     True    False   \n",
      "\n",
      "   Switzerland  Goldcard  Moneycard  Simplecard  UK_Card  Diners  Master  \\\n",
      "0        False     False      False       False     True   False   False   \n",
      "1        False     False      False       False     True   False   False   \n",
      "2        False     False      False       False     True    True   False   \n",
      "3        False     False      False       False     True    True   False   \n",
      "4        False     False      False        True    False    True   False   \n",
      "\n",
      "    Visa  num_tries  order_id  \n",
      "0   True          1         1  \n",
      "1   True          2         1  \n",
      "2  False          1         2  \n",
      "3  False          1         3  \n",
      "4  False          1         4  \n"
     ]
    }
   ],
   "source": [
    "input_data = pd.read_csv(FILE_PATH_NORMALIZED_DATA, parse_dates=[0])                        # Load input data file\n",
    "print(f\"Data loaded from Excel: \\n{input_data.head()}\")"
   ],
   "metadata": {
    "collapsed": false,
    "ExecuteTime": {
     "start_time": "2023-05-19T21:22:23.537904Z",
     "end_time": "2023-05-19T21:22:23.654785Z"
    }
   }
  },
  {
   "cell_type": "markdown",
   "source": [
    "### Train and Test Dataset"
   ],
   "metadata": {
    "collapsed": false
   }
  },
  {
   "cell_type": "code",
   "execution_count": 108,
   "outputs": [],
   "source": [
    "model_data = input_data.drop('tmsp', axis=1)                                                            # Remove timestamp column for training\n",
    "model_data = model_data.drop('order_id', axis=1)\n",
    "model_data = model_data.drop('Austria', axis=1)\n",
    "model_data = model_data.drop('Goldcard', axis=1)\n",
    "model_data = model_data.drop('Diners', axis=1)\n",
    "X = model_data.drop('success', axis=1)                                                                  # Features\n",
    "y = model_data['success']                                                                               # Target Variable\n",
    "X_train, X_test, y_train, y_test = train_test_split(X, y, test_size=0.2, random_state=42, shuffle=True)"
   ],
   "metadata": {
    "collapsed": false,
    "ExecuteTime": {
     "start_time": "2023-05-19T21:22:23.670209Z",
     "end_time": "2023-05-19T21:22:23.687681Z"
    }
   }
  },
  {
   "cell_type": "markdown",
   "source": [
    "### Gradient Boosting Model"
   ],
   "metadata": {
    "collapsed": false
   }
  },
  {
   "cell_type": "code",
   "execution_count": null,
   "outputs": [],
   "source": [
    "gradientboosting = GradientBoostingClassifier(n_estimators=2000, random_state=42, max_depth=2)\n",
    "cv_scores = cross_val_score(gradientboosting, X_train, y_train, cv=3, scoring=\"recall\")\n",
    "print(cv_scores)\n",
    "print(f\"Average 3-Fold CV recall score: {np.mean(cv_scores)}\")\n",
    "\n",
    "gradientboosting.fit(X_train, y_train)\n",
    "y_pred = gradientboosting.predict(X_test)\n",
    "y_pred_proba = gradientboosting.predict_proba(X_test)[:,1]"
   ],
   "metadata": {
    "collapsed": false,
    "ExecuteTime": {
     "start_time": "2023-05-19T21:18:33.868558Z",
     "end_time": "2023-05-19T21:21:31.240493Z"
    },
    "pycharm": {
     "is_executing": true
    }
   }
  },
  {
   "cell_type": "markdown",
   "source": [
    "### Model Evaluation"
   ],
   "metadata": {
    "collapsed": false
   }
  },
  {
   "cell_type": "code",
   "execution_count": null,
   "outputs": [],
   "source": [
    "# --- Calculate the accuracy of the Gradient Boosting model\n",
    "accuracy = accuracy_score(y_test, y_pred)\n",
    "print(\"Model Accuracy:\", accuracy)\n",
    "# 81%\n",
    "# 62% (Balancing)\n",
    "# 62% (Balancing and Normalized)\n",
    "# 81% (No Balancing and Normalized)\n",
    "# 78% (n_extimators=2000 (1000), max_depth=6 (3)"
   ],
   "metadata": {
    "collapsed": false,
    "ExecuteTime": {
     "start_time": "2023-05-19T21:21:31.240493Z",
     "end_time": "2023-05-19T21:21:31.255493Z"
    },
    "pycharm": {
     "is_executing": true
    }
   }
  }
 ],
 "metadata": {
  "kernelspec": {
   "display_name": "Python 3",
   "language": "python",
   "name": "python3"
  },
  "language_info": {
   "codemirror_mode": {
    "name": "ipython",
    "version": 2
   },
   "file_extension": ".py",
   "mimetype": "text/x-python",
   "name": "python",
   "nbconvert_exporter": "python",
   "pygments_lexer": "ipython2",
   "version": "2.7.6"
  }
 },
 "nbformat": 4,
 "nbformat_minor": 0
}
